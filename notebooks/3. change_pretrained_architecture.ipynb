{
 "cells": [
  {
   "cell_type": "code",
   "execution_count": 1,
   "metadata": {},
   "outputs": [],
   "source": [
    "import os\n",
    "os.chdir('../src')"
   ]
  },
  {
   "cell_type": "markdown",
   "metadata": {},
   "source": [
    "### load getPretrained module"
   ]
  },
  {
   "cell_type": "code",
   "execution_count": 2,
   "metadata": {},
   "outputs": [
    {
     "name": "stdout",
     "output_type": "stream",
     "text": [
      "tf.__version__ : 1.13.1\n",
      "keras.__version__: 2.2.4-tf\n"
     ]
    }
   ],
   "source": [
    "%run modules/model/getPretrained.py"
   ]
  },
  {
   "cell_type": "code",
   "execution_count": 3,
   "metadata": {},
   "outputs": [
    {
     "data": {
      "text/plain": [
       "{'Xception': '../models/xception_weights_tf_dim_ordering_tf_kernels_notop.h5',\n",
       " 'VGG16': '../models/vgg16_weights_tf_dim_ordering_tf_kernels_notop.h5',\n",
       " 'VGG16_includeTop': '../models/vgg16_weights_tf_dim_ordering_tf_kernels.h5',\n",
       " 'VGG19': '../models/vgg19_weights_tf_dim_ordering_tf_kernels_notop.h5',\n",
       " 'InceptionV3': '../models/inception_v3_weights_tf_dim_ordering_tf_kernels_notop.h5',\n",
       " 'MobileNet': '../models/mobilenet_1_0_224_tf_no_top.h5',\n",
       " 'DenseNet': '../models/densenet121_weights_tf_dim_ordering_tf_kernels_notop.h5',\n",
       " 'NASNet': '../models/nasnet_mobile_no_top.h5',\n",
       " 'ResNet50': '../models/resnet50_weights_tf_dim_ordering_tf_kernels_notop.h5',\n",
       " 'InceptionResNetV2': '../models/inception_resnet_v2_weights_tf_dim_ordering_tf_kernels_notop.h5'}"
      ]
     },
     "execution_count": 3,
     "metadata": {},
     "output_type": "execute_result"
    }
   ],
   "source": [
    "ModelFileDict = getModelFileDict()\n",
    "ModelFileDict"
   ]
  },
  {
   "cell_type": "code",
   "execution_count": 4,
   "metadata": {},
   "outputs": [],
   "source": [
    "@lD.log(logBase + '.model')\n",
    "def modelImageNet(logger, modelName, weightsFile=None, input_shape=(224, 224, 3)):\n",
    "\n",
    "    try:\n",
    "\n",
    "        if weightsFile is not None:\n",
    "            weights = weightsFile\n",
    "        else:\n",
    "            weights = 'imagenet'\n",
    "\n",
    "        if   modelName == 'Xception':\n",
    "            base_model  = keras.applications.xception.Xception(input_shape=input_shape, include_top=False, weights=weights)\n",
    "        elif modelName == 'VGG16':\n",
    "            base_model  = keras.applications.vgg16.VGG16(input_shape=input_shape, include_top=False, weights=weights)\n",
    "        elif modelName == 'VGG16_includeTop':\n",
    "            base_model  = keras.applications.vgg16.VGG16(input_shape=input_shape, include_top=True, weights=weights)\n",
    "        elif modelName == 'VGG19':\n",
    "            base_model  = keras.applications.vgg19.VGG19(input_shape=input_shape, include_top=False, weights=weights)\n",
    "        elif modelName == 'ResNet50':\n",
    "            base_model  = keras.applications.resnet50.ResNet50(input_shape=input_shape, include_top=False, weights=weights)\n",
    "        elif modelName == 'InceptionV3':\n",
    "            base_model  = keras.applications.inception_v3.InceptionV3(input_shape=input_shape, include_top=False, weights=weights)\n",
    "        elif modelName == 'InceptionResNetV2':\n",
    "            base_model  = keras.applications.inception_resnet_v2.InceptionResNetV2(input_shape=input_shape, include_top=False, weights=weights)\n",
    "        elif modelName == 'MobileNet':\n",
    "            base_model  = keras.applications.mobilenet.MobileNet(input_shape=input_shape, include_top=False, weights=weights)\n",
    "        elif modelName == 'DenseNet':\n",
    "            base_model  = keras.applications.densenet.DenseNet121(input_shape=input_shape, include_top=False, weights=weights)\n",
    "        elif modelName == 'NASNet':\n",
    "            base_model  = keras.applications.nasnet.NASNetMobile(input_shape=input_shape, include_top=False, weights=weights)\n",
    "\n",
    "        return base_model\n",
    "\n",
    "    except Exception as e:\n",
    "\n",
    "        logger.error('Unable to get model: {} \\n{}'.format(modelName, str(e)))"
   ]
  },
  {
   "cell_type": "code",
   "execution_count": 5,
   "metadata": {},
   "outputs": [
    {
     "name": "stdout",
     "output_type": "stream",
     "text": [
      "WARNING:tensorflow:From /Users/lingyit/Downloads/transferLearning/env/lib/python3.6/site-packages/tensorflow/python/ops/resource_variable_ops.py:435: colocate_with (from tensorflow.python.framework.ops) is deprecated and will be removed in a future version.\n",
      "Instructions for updating:\n",
      "Colocations handled automatically by placer.\n",
      "_________________________________________________________________\n",
      "Layer (type)                 Output Shape              Param #   \n",
      "=================================================================\n",
      "input_1 (InputLayer)         (None, 224, 224, 3)       0         \n",
      "_________________________________________________________________\n",
      "block1_conv1 (Conv2D)        (None, 224, 224, 64)      1792      \n",
      "_________________________________________________________________\n",
      "block1_conv2 (Conv2D)        (None, 224, 224, 64)      36928     \n",
      "_________________________________________________________________\n",
      "block1_pool (MaxPooling2D)   (None, 112, 112, 64)      0         \n",
      "_________________________________________________________________\n",
      "block2_conv1 (Conv2D)        (None, 112, 112, 128)     73856     \n",
      "_________________________________________________________________\n",
      "block2_conv2 (Conv2D)        (None, 112, 112, 128)     147584    \n",
      "_________________________________________________________________\n",
      "block2_pool (MaxPooling2D)   (None, 56, 56, 128)       0         \n",
      "_________________________________________________________________\n",
      "block3_conv1 (Conv2D)        (None, 56, 56, 256)       295168    \n",
      "_________________________________________________________________\n",
      "block3_conv2 (Conv2D)        (None, 56, 56, 256)       590080    \n",
      "_________________________________________________________________\n",
      "block3_conv3 (Conv2D)        (None, 56, 56, 256)       590080    \n",
      "_________________________________________________________________\n",
      "block3_pool (MaxPooling2D)   (None, 28, 28, 256)       0         \n",
      "_________________________________________________________________\n",
      "block4_conv1 (Conv2D)        (None, 28, 28, 512)       1180160   \n",
      "_________________________________________________________________\n",
      "block4_conv2 (Conv2D)        (None, 28, 28, 512)       2359808   \n",
      "_________________________________________________________________\n",
      "block4_conv3 (Conv2D)        (None, 28, 28, 512)       2359808   \n",
      "_________________________________________________________________\n",
      "block4_pool (MaxPooling2D)   (None, 14, 14, 512)       0         \n",
      "_________________________________________________________________\n",
      "block5_conv1 (Conv2D)        (None, 14, 14, 512)       2359808   \n",
      "_________________________________________________________________\n",
      "block5_conv2 (Conv2D)        (None, 14, 14, 512)       2359808   \n",
      "_________________________________________________________________\n",
      "block5_conv3 (Conv2D)        (None, 14, 14, 512)       2359808   \n",
      "_________________________________________________________________\n",
      "block5_pool (MaxPooling2D)   (None, 7, 7, 512)         0         \n",
      "_________________________________________________________________\n",
      "flatten (Flatten)            (None, 25088)             0         \n",
      "_________________________________________________________________\n",
      "fc1 (Dense)                  (None, 4096)              102764544 \n",
      "_________________________________________________________________\n",
      "fc2 (Dense)                  (None, 4096)              16781312  \n",
      "_________________________________________________________________\n",
      "predictions (Dense)          (None, 1000)              4097000   \n",
      "=================================================================\n",
      "Total params: 138,357,544\n",
      "Trainable params: 138,357,544\n",
      "Non-trainable params: 0\n",
      "_________________________________________________________________\n"
     ]
    }
   ],
   "source": [
    "modelwTop = modelImageNet('VGG16_includeTop', ModelFileDict['VGG16_includeTop'])\n",
    "modelwTop.summary()"
   ]
  },
  {
   "cell_type": "code",
   "execution_count": 6,
   "metadata": {},
   "outputs": [],
   "source": [
    "@lD.log(logBase + '.outputTensorBoard')\n",
    "def outputTensorBoard(logger, subfolder=None):\n",
    "\n",
    "    try:\n",
    "\n",
    "        tfboardFolder = '../notebooks/tensorlog/'\n",
    "\n",
    "        if subfolder is not None:\n",
    "            tfboardFolder = os.path.join(tfboardFolder, subfolder)\n",
    "\n",
    "        if os.path.exists(tfboardFolder):\n",
    "            shutil.rmtree(tfboardFolder)\n",
    "\n",
    "        os.makedirs(tfboardFolder)\n",
    "\n",
    "        with tf.Session() as sess:\n",
    "            tfWriter = tf.summary.FileWriter(tfboardFolder, sess.graph)\n",
    "            tfWriter.close()\n",
    "\n",
    "    except Exception as e:\n",
    "\n",
    "        logger.error('Unable to output tensorboard \\n{}'.format(str(e)))"
   ]
  },
  {
   "cell_type": "code",
   "execution_count": 7,
   "metadata": {},
   "outputs": [],
   "source": [
    "outputTensorBoard('VGG16_includeTop_folder')"
   ]
  },
  {
   "cell_type": "code",
   "execution_count": 8,
   "metadata": {},
   "outputs": [
    {
     "data": {
      "text/plain": [
       "[<tensorflow.python.keras.engine.input_layer.InputLayer at 0x12f74efd0>,\n",
       " <tensorflow.python.keras.layers.convolutional.Conv2D at 0x12f7e1748>,\n",
       " <tensorflow.python.keras.layers.convolutional.Conv2D at 0x12f7e16a0>,\n",
       " <tensorflow.python.keras.layers.pooling.MaxPooling2D at 0x12f811ef0>,\n",
       " <tensorflow.python.keras.layers.convolutional.Conv2D at 0x12f7e18d0>,\n",
       " <tensorflow.python.keras.layers.convolutional.Conv2D at 0x12f8328d0>,\n",
       " <tensorflow.python.keras.layers.pooling.MaxPooling2D at 0x12f88dcf8>,\n",
       " <tensorflow.python.keras.layers.convolutional.Conv2D at 0x12f8766d8>,\n",
       " <tensorflow.python.keras.layers.convolutional.Conv2D at 0x12f8b2dd8>,\n",
       " <tensorflow.python.keras.layers.convolutional.Conv2D at 0x12f8f4438>,\n",
       " <tensorflow.python.keras.layers.pooling.MaxPooling2D at 0x12f906f60>,\n",
       " <tensorflow.python.keras.layers.convolutional.Conv2D at 0x12f92df28>,\n",
       " <tensorflow.python.keras.layers.convolutional.Conv2D at 0x12f948c18>,\n",
       " <tensorflow.python.keras.layers.convolutional.Conv2D at 0x12f98d940>,\n",
       " <tensorflow.python.keras.layers.pooling.MaxPooling2D at 0x12f9e3c50>,\n",
       " <tensorflow.python.keras.layers.convolutional.Conv2D at 0x12f9c77b8>,\n",
       " <tensorflow.python.keras.layers.convolutional.Conv2D at 0x12fa05cf8>,\n",
       " <tensorflow.python.keras.layers.convolutional.Conv2D at 0x12fa46320>,\n",
       " <tensorflow.python.keras.layers.pooling.MaxPooling2D at 0x12fa5cef0>,\n",
       " <tensorflow.python.keras.layers.core.Flatten at 0x12fa82eb8>,\n",
       " <tensorflow.python.keras.layers.core.Dense at 0x12fabf978>,\n",
       " <tensorflow.python.keras.layers.core.Dense at 0x12fa9cdd8>,\n",
       " <tensorflow.python.keras.layers.core.Dense at 0x12fae2cf8>]"
      ]
     },
     "execution_count": 8,
     "metadata": {},
     "output_type": "execute_result"
    }
   ],
   "source": [
    "modelwTop.layers"
   ]
  },
  {
   "cell_type": "code",
   "execution_count": 10,
   "metadata": {},
   "outputs": [
    {
     "data": {
      "text/plain": [
       "<tf.Tensor 'block5_pool/MaxPool:0' shape=(?, 7, 7, 512) dtype=float32>"
      ]
     },
     "execution_count": 10,
     "metadata": {},
     "output_type": "execute_result"
    }
   ],
   "source": [
    "outputFromMaxPooling2D = modelwTop.layers[-5].output\n",
    "outputFromMaxPooling2D"
   ]
  },
  {
   "cell_type": "code",
   "execution_count": 11,
   "metadata": {},
   "outputs": [
    {
     "name": "stdout",
     "output_type": "stream",
     "text": [
      "flatten layer Tensor(\"flatten/Reshape:0\", shape=(?, 25088), dtype=float32)\n",
      "dense layer Tensor(\"fc1/Relu:0\", shape=(?, 4096), dtype=float32)\n"
     ]
    }
   ],
   "source": [
    "print('flatten layer', modelwTop.layers[-4].output)\n",
    "print('dense layer',   modelwTop.layers[-3].output)"
   ]
  },
  {
   "cell_type": "code",
   "execution_count": 12,
   "metadata": {},
   "outputs": [],
   "source": [
    "with tf.variable_scope('additionalLayer'):\n",
    "    flattenLayer  = tf.layers.Flatten(data_format='channels_last', name='flattenLayer')\n",
    "    flattenOutput = flattenLayer(outputFromMaxPooling2D)"
   ]
  },
  {
   "cell_type": "code",
   "execution_count": 13,
   "metadata": {},
   "outputs": [],
   "source": [
    "outputTensorBoard('VGG16_changed')"
   ]
  },
  {
   "cell_type": "code",
   "execution_count": 14,
   "metadata": {},
   "outputs": [],
   "source": [
    "with tf.variable_scope('anotherLayer'):\n",
    "    denseLayer = tf.layers.Dense(units=100, activation=tf.nn.relu, name='denseLayer')\n",
    "    output     = denseLayer(flattenOutput)"
   ]
  },
  {
   "cell_type": "code",
   "execution_count": 15,
   "metadata": {},
   "outputs": [],
   "source": [
    "outputTensorBoard('VGG16_changed_v2')"
   ]
  },
  {
   "cell_type": "markdown",
   "metadata": {},
   "source": [
    "After changing layers, summary remain as the original"
   ]
  },
  {
   "cell_type": "code",
   "execution_count": null,
   "metadata": {
    "scrolled": false
   },
   "outputs": [],
   "source": [
    "modelwTop.summary()"
   ]
  },
  {
   "cell_type": "code",
   "execution_count": null,
   "metadata": {},
   "outputs": [],
   "source": [
    "modelwTop.input"
   ]
  },
  {
   "cell_type": "code",
   "execution_count": null,
   "metadata": {},
   "outputs": [],
   "source": [
    "output"
   ]
  },
  {
   "cell_type": "code",
   "execution_count": null,
   "metadata": {},
   "outputs": [],
   "source": [
    "modelNew = keras.models.Model(inputs=modelwTop.input, outputs=output)"
   ]
  },
  {
   "cell_type": "code",
   "execution_count": null,
   "metadata": {},
   "outputs": [],
   "source": [
    "modelNew.summary()"
   ]
  }
 ],
 "metadata": {
  "kernelspec": {
   "display_name": "Python 3",
   "language": "python",
   "name": "python3"
  },
  "language_info": {
   "codemirror_mode": {
    "name": "ipython",
    "version": 3
   },
   "file_extension": ".py",
   "mimetype": "text/x-python",
   "name": "python",
   "nbconvert_exporter": "python",
   "pygments_lexer": "ipython3",
   "version": "3.6.5"
  }
 },
 "nbformat": 4,
 "nbformat_minor": 2
}

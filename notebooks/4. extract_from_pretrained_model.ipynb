{
 "cells": [
  {
   "cell_type": "code",
   "execution_count": 1,
   "metadata": {},
   "outputs": [],
   "source": [
    "import os\n",
    "os.chdir('../src')"
   ]
  },
  {
   "cell_type": "markdown",
   "metadata": {},
   "source": [
    "### load getPretrained module"
   ]
  },
  {
   "cell_type": "code",
   "execution_count": 2,
   "metadata": {},
   "outputs": [
    {
     "name": "stdout",
     "output_type": "stream",
     "text": [
      "tf.__version__ : 1.13.1\n",
      "keras.__version__: 2.2.4-tf\n"
     ]
    }
   ],
   "source": [
    "%run modules/model/getPretrained.py"
   ]
  },
  {
   "cell_type": "code",
   "execution_count": 3,
   "metadata": {},
   "outputs": [
    {
     "data": {
      "text/plain": [
       "{'Xception': '../models/xception_weights_tf_dim_ordering_tf_kernels_notop.h5',\n",
       " 'VGG16': '../models/vgg16_weights_tf_dim_ordering_tf_kernels_notop.h5',\n",
       " 'VGG16_includeTop': '../models/vgg16_weights_tf_dim_ordering_tf_kernels.h5',\n",
       " 'VGG19': '../models/vgg19_weights_tf_dim_ordering_tf_kernels_notop.h5',\n",
       " 'InceptionV3': '../models/inception_v3_weights_tf_dim_ordering_tf_kernels_notop.h5',\n",
       " 'MobileNet': '../models/mobilenet_1_0_224_tf_no_top.h5',\n",
       " 'DenseNet': '../models/densenet121_weights_tf_dim_ordering_tf_kernels_notop.h5',\n",
       " 'NASNet': '../models/nasnet_mobile_no_top.h5',\n",
       " 'ResNet50': '../models/resnet50_weights_tf_dim_ordering_tf_kernels_notop.h5',\n",
       " 'InceptionResNetV2': '../models/inception_resnet_v2_weights_tf_dim_ordering_tf_kernels_notop.h5'}"
      ]
     },
     "execution_count": 3,
     "metadata": {},
     "output_type": "execute_result"
    }
   ],
   "source": [
    "ModelFileDict = getModelFileDict()\n",
    "ModelFileDict"
   ]
  },
  {
   "cell_type": "code",
   "execution_count": 4,
   "metadata": {},
   "outputs": [
    {
     "name": "stdout",
     "output_type": "stream",
     "text": [
      "WARNING:tensorflow:From /Users/lingyit/Downloads/transferLearning/env/lib/python3.6/site-packages/tensorflow/python/ops/resource_variable_ops.py:435: colocate_with (from tensorflow.python.framework.ops) is deprecated and will be removed in a future version.\n",
      "Instructions for updating:\n",
      "Colocations handled automatically by placer.\n",
      "_________________________________________________________________\n",
      "Layer (type)                 Output Shape              Param #   \n",
      "=================================================================\n",
      "input_1 (InputLayer)         (None, 224, 224, 3)       0         \n",
      "_________________________________________________________________\n",
      "block1_conv1 (Conv2D)        (None, 224, 224, 64)      1792      \n",
      "_________________________________________________________________\n",
      "block1_conv2 (Conv2D)        (None, 224, 224, 64)      36928     \n",
      "_________________________________________________________________\n",
      "block1_pool (MaxPooling2D)   (None, 112, 112, 64)      0         \n",
      "_________________________________________________________________\n",
      "block2_conv1 (Conv2D)        (None, 112, 112, 128)     73856     \n",
      "_________________________________________________________________\n",
      "block2_conv2 (Conv2D)        (None, 112, 112, 128)     147584    \n",
      "_________________________________________________________________\n",
      "block2_pool (MaxPooling2D)   (None, 56, 56, 128)       0         \n",
      "_________________________________________________________________\n",
      "block3_conv1 (Conv2D)        (None, 56, 56, 256)       295168    \n",
      "_________________________________________________________________\n",
      "block3_conv2 (Conv2D)        (None, 56, 56, 256)       590080    \n",
      "_________________________________________________________________\n",
      "block3_conv3 (Conv2D)        (None, 56, 56, 256)       590080    \n",
      "_________________________________________________________________\n",
      "block3_pool (MaxPooling2D)   (None, 28, 28, 256)       0         \n",
      "_________________________________________________________________\n",
      "block4_conv1 (Conv2D)        (None, 28, 28, 512)       1180160   \n",
      "_________________________________________________________________\n",
      "block4_conv2 (Conv2D)        (None, 28, 28, 512)       2359808   \n",
      "_________________________________________________________________\n",
      "block4_conv3 (Conv2D)        (None, 28, 28, 512)       2359808   \n",
      "_________________________________________________________________\n",
      "block4_pool (MaxPooling2D)   (None, 14, 14, 512)       0         \n",
      "_________________________________________________________________\n",
      "block5_conv1 (Conv2D)        (None, 14, 14, 512)       2359808   \n",
      "_________________________________________________________________\n",
      "block5_conv2 (Conv2D)        (None, 14, 14, 512)       2359808   \n",
      "_________________________________________________________________\n",
      "block5_conv3 (Conv2D)        (None, 14, 14, 512)       2359808   \n",
      "_________________________________________________________________\n",
      "block5_pool (MaxPooling2D)   (None, 7, 7, 512)         0         \n",
      "_________________________________________________________________\n",
      "flatten (Flatten)            (None, 25088)             0         \n",
      "_________________________________________________________________\n",
      "fc1 (Dense)                  (None, 4096)              102764544 \n",
      "_________________________________________________________________\n",
      "fc2 (Dense)                  (None, 4096)              16781312  \n",
      "_________________________________________________________________\n",
      "predictions (Dense)          (None, 1000)              4097000   \n",
      "=================================================================\n",
      "Total params: 138,357,544\n",
      "Trainable params: 138,357,544\n",
      "Non-trainable params: 0\n",
      "_________________________________________________________________\n"
     ]
    }
   ],
   "source": [
    "model = modelImageNet('VGG16_includeTop', ModelFileDict['VGG16_includeTop'])\n",
    "model.summary()"
   ]
  },
  {
   "cell_type": "code",
   "execution_count": 5,
   "metadata": {},
   "outputs": [
    {
     "data": {
      "text/plain": [
       "[<tensorflow.python.keras.engine.input_layer.InputLayer at 0x1389deac8>,\n",
       " <tensorflow.python.keras.layers.convolutional.Conv2D at 0x1389dee10>,\n",
       " <tensorflow.python.keras.layers.convolutional.Conv2D at 0x1389def98>,\n",
       " <tensorflow.python.keras.layers.pooling.MaxPooling2D at 0x138a6d748>,\n",
       " <tensorflow.python.keras.layers.convolutional.Conv2D at 0x138a6d630>,\n",
       " <tensorflow.python.keras.layers.convolutional.Conv2D at 0x138ab2f60>,\n",
       " <tensorflow.python.keras.layers.pooling.MaxPooling2D at 0x138af9748>,\n",
       " <tensorflow.python.keras.layers.convolutional.Conv2D at 0x138af9630>,\n",
       " <tensorflow.python.keras.layers.convolutional.Conv2D at 0x138b2f710>,\n",
       " <tensorflow.python.keras.layers.convolutional.Conv2D at 0x138b6b240>,\n",
       " <tensorflow.python.keras.layers.pooling.MaxPooling2D at 0x138ba4cf8>,\n",
       " <tensorflow.python.keras.layers.convolutional.Conv2D at 0x138b87cf8>,\n",
       " <tensorflow.python.keras.layers.convolutional.Conv2D at 0x138bc4a58>,\n",
       " <tensorflow.python.keras.layers.convolutional.Conv2D at 0x138c18860>,\n",
       " <tensorflow.python.keras.layers.pooling.MaxPooling2D at 0x138c3a518>,\n",
       " <tensorflow.python.keras.layers.convolutional.Conv2D at 0x138c3a400>,\n",
       " <tensorflow.python.keras.layers.convolutional.Conv2D at 0x138c780f0>,\n",
       " <tensorflow.python.keras.layers.convolutional.Conv2D at 0x138c94fd0>,\n",
       " <tensorflow.python.keras.layers.pooling.MaxPooling2D at 0x138cea9b0>,\n",
       " <tensorflow.python.keras.layers.core.Flatten at 0x138ccdac8>,\n",
       " <tensorflow.python.keras.layers.core.Dense at 0x138d0c748>,\n",
       " <tensorflow.python.keras.layers.core.Dense at 0x138d27cc0>,\n",
       " <tensorflow.python.keras.layers.core.Dense at 0x138d4a860>]"
      ]
     },
     "execution_count": 5,
     "metadata": {},
     "output_type": "execute_result"
    }
   ],
   "source": [
    "model.layers"
   ]
  },
  {
   "cell_type": "code",
   "execution_count": null,
   "metadata": {},
   "outputs": [],
   "source": [
    "conv2D_layer1 = model.layers[1]\n",
    "conv2D_layer1"
   ]
  },
  {
   "cell_type": "code",
   "execution_count": null,
   "metadata": {},
   "outputs": [],
   "source": [
    "block1_conv1_kernel, block1_conv1_bias = conv2D_layer1.variables\n",
    "conv2D_layer1.variables"
   ]
  },
  {
   "cell_type": "code",
   "execution_count": null,
   "metadata": {},
   "outputs": [],
   "source": [
    "conv2D_layer1.weights"
   ]
  },
  {
   "cell_type": "code",
   "execution_count": null,
   "metadata": {},
   "outputs": [],
   "source": [
    "conv2D_layer1.kernel, conv2D_layer1.bias"
   ]
  },
  {
   "cell_type": "code",
   "execution_count": null,
   "metadata": {},
   "outputs": [],
   "source": [
    "weightsList = model.get_layer ('block1_conv1').get_weights()\n",
    "\n",
    "for w in weightsList:\n",
    "    print(w.shape)"
   ]
  },
  {
   "cell_type": "code",
   "execution_count": null,
   "metadata": {},
   "outputs": [],
   "source": [
    "conv1_kernel, conv1_bias  = model.get_layer ('block1_conv1').get_weights()"
   ]
  },
  {
   "cell_type": "code",
   "execution_count": null,
   "metadata": {
    "scrolled": true
   },
   "outputs": [],
   "source": [
    "print(conv1_bias.shape)\n",
    "print(conv1_bias)"
   ]
  },
  {
   "cell_type": "code",
   "execution_count": null,
   "metadata": {},
   "outputs": [],
   "source": [
    "saver          = tf.train.Saver(var_list=tf.trainable_variables())\n",
    "checkPoint     = '../notebooks/model_checkpoints/tutorial4/vgg16_model.ckpt'\n",
    "model.save_weights( checkPoint )"
   ]
  },
  {
   "cell_type": "code",
   "execution_count": null,
   "metadata": {},
   "outputs": [],
   "source": [
    "sess           = tf.Session()\n",
    "sess.run( tf.global_variables_initializer() )\n",
    "\n",
    "saver.restore( sess, checkPoint )"
   ]
  },
  {
   "cell_type": "code",
   "execution_count": null,
   "metadata": {},
   "outputs": [],
   "source": [
    "weightsOutput  = sess.run( [block1_conv1_kernel, block1_conv1_bias, 'block1_conv1/Relu:0'], \n",
    "                           feed_dict={\n",
    "                                'input_1:0' : np.random.random(size=(1, 224, 224, 3))\n",
    "                            })\n",
    "conv1_kernel_x = weightsOutput[0]\n",
    "conv1_bias_x   = weightsOutput[1]\n",
    "conv1_relu_x   = weightsOutput[2]"
   ]
  },
  {
   "cell_type": "code",
   "execution_count": null,
   "metadata": {},
   "outputs": [],
   "source": [
    "print(conv1_bias_x.shape)\n",
    "print(conv1_bias_x)"
   ]
  },
  {
   "cell_type": "code",
   "execution_count": null,
   "metadata": {
    "scrolled": true
   },
   "outputs": [],
   "source": [
    "print(np.array_equal(conv1_kernel, conv1_kernel_x))\n",
    "print(np.array_equal(conv1_bias, conv1_bias_x))"
   ]
  },
  {
   "cell_type": "code",
   "execution_count": null,
   "metadata": {},
   "outputs": [],
   "source": [
    "conv2D_layer1.input, conv2D_layer1.output"
   ]
  },
  {
   "cell_type": "code",
   "execution_count": null,
   "metadata": {},
   "outputs": [],
   "source": [
    "conv1_output = sess.run( 'block1_conv1/Relu:0', \n",
    "                          feed_dict={\n",
    "                            'input_1:0' : np.random.random(size=(1, 224, 224, 3))\n",
    "                          })"
   ]
  },
  {
   "cell_type": "code",
   "execution_count": null,
   "metadata": {},
   "outputs": [],
   "source": [
    "conv1_output.shape"
   ]
  },
  {
   "cell_type": "code",
   "execution_count": null,
   "metadata": {},
   "outputs": [],
   "source": [
    "conv1_output"
   ]
  }
 ],
 "metadata": {
  "kernelspec": {
   "display_name": "Python 3",
   "language": "python",
   "name": "python3"
  },
  "language_info": {
   "codemirror_mode": {
    "name": "ipython",
    "version": 3
   },
   "file_extension": ".py",
   "mimetype": "text/x-python",
   "name": "python",
   "nbconvert_exporter": "python",
   "pygments_lexer": "ipython3",
   "version": "3.6.5"
  }
 },
 "nbformat": 4,
 "nbformat_minor": 2
}

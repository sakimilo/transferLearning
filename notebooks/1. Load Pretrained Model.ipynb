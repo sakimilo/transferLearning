{
 "cells": [
  {
   "cell_type": "code",
   "execution_count": 1,
   "metadata": {},
   "outputs": [],
   "source": [
    "import os\n",
    "os.chdir('../src')\n",
    "\n",
    "from logs import logDecorator as lD "
   ]
  },
  {
   "cell_type": "markdown",
   "metadata": {},
   "source": [
    "### load getPretrained module"
   ]
  },
  {
   "cell_type": "code",
   "execution_count": 2,
   "metadata": {},
   "outputs": [
    {
     "name": "stdout",
     "output_type": "stream",
     "text": [
      "tf.__version__ : 1.13.1\n",
      "keras.__version__: 2.2.4-tf\n"
     ]
    }
   ],
   "source": [
    "%run modules/model/getPretrained.py"
   ]
  },
  {
   "cell_type": "code",
   "execution_count": 3,
   "metadata": {},
   "outputs": [
    {
     "name": "stdout",
     "output_type": "stream",
     "text": [
      "rm: /Users/lingyit/.keras/models/*: No such file or directory\r\n"
     ]
    }
   ],
   "source": [
    "%rm ~/.keras/models/*"
   ]
  },
  {
   "cell_type": "code",
   "execution_count": 4,
   "metadata": {},
   "outputs": [],
   "source": [
    "input_shape   = (224, 224, 3)\n",
    "include_top   = False\n",
    "weights       = 'imagenet'"
   ]
  },
  {
   "cell_type": "markdown",
   "metadata": {},
   "source": [
    "Source code in Keras repo\n",
    "https://github.com/keras-team/keras-applications/tree/master/keras_applications\n",
    "\n",
    "Source code in Tensorflow\n",
    "https://github.com/tensorflow/tensorflow/tree/master/tensorflow/python/keras/applications"
   ]
  },
  {
   "cell_type": "code",
   "execution_count": null,
   "metadata": {},
   "outputs": [],
   "source": [
    "base_model    = keras.applications.vgg16.VGG16(input_shape=input_shape, include_top=include_top, weights=weights)"
   ]
  },
  {
   "cell_type": "code",
   "execution_count": null,
   "metadata": {},
   "outputs": [],
   "source": [
    "%ls ~/.keras/models/"
   ]
  },
  {
   "cell_type": "code",
   "execution_count": 9,
   "metadata": {},
   "outputs": [],
   "source": [
    "model         = keras.applications.vgg16.VGG16(input_shape=input_shape, include_top=include_top, \n",
    "                                               weights='../models/vgg16_weights_tf_dim_ordering_tf_kernels_notop.h5')"
   ]
  },
  {
   "cell_type": "code",
   "execution_count": 6,
   "metadata": {
    "scrolled": true
   },
   "outputs": [
    {
     "data": {
      "text/plain": [
       "{'Xception': '../models/xception_weights_tf_dim_ordering_tf_kernels_notop.h5',\n",
       " 'VGG16': '../models/vgg16_weights_tf_dim_ordering_tf_kernels_notop.h5',\n",
       " 'VGG16_includeTop': '../models/vgg16_weights_tf_dim_ordering_tf_kernels.h5',\n",
       " 'VGG19': '../models/vgg19_weights_tf_dim_ordering_tf_kernels_notop.h5',\n",
       " 'InceptionV3': '../models/inception_v3_weights_tf_dim_ordering_tf_kernels_notop.h5',\n",
       " 'MobileNet': '../models/mobilenet_1_0_224_tf_no_top.h5',\n",
       " 'DenseNet': '../models/densenet121_weights_tf_dim_ordering_tf_kernels_notop.h5',\n",
       " 'NASNet': '../models/nasnet_mobile_no_top.h5',\n",
       " 'ResNet50': '../models/resnet50_weights_tf_dim_ordering_tf_kernels_notop.h5',\n",
       " 'InceptionResNetV2': '../models/inception_resnet_v2_weights_tf_dim_ordering_tf_kernels_notop.h5'}"
      ]
     },
     "execution_count": 6,
     "metadata": {},
     "output_type": "execute_result"
    }
   ],
   "source": [
    "ModelFileDict = getModelFileDict()\n",
    "ModelFileDict"
   ]
  },
  {
   "cell_type": "code",
   "execution_count": 7,
   "metadata": {},
   "outputs": [
    {
     "name": "stdout",
     "output_type": "stream",
     "text": [
      "WARNING:tensorflow:From /Users/lingyit/Downloads/transferLearning/env/lib/python3.6/site-packages/tensorflow/python/ops/resource_variable_ops.py:435: colocate_with (from tensorflow.python.framework.ops) is deprecated and will be removed in a future version.\n",
      "Instructions for updating:\n",
      "Colocations handled automatically by placer.\n"
     ]
    }
   ],
   "source": [
    "visualise_graph('VGG16', 'VGG16_folder')"
   ]
  },
  {
   "cell_type": "code",
   "execution_count": 10,
   "metadata": {},
   "outputs": [
    {
     "name": "stdout",
     "output_type": "stream",
     "text": [
      "_________________________________________________________________\n",
      "Layer (type)                 Output Shape              Param #   \n",
      "=================================================================\n",
      "input_2 (InputLayer)         (None, 224, 224, 3)       0         \n",
      "_________________________________________________________________\n",
      "block1_conv1 (Conv2D)        (None, 224, 224, 64)      1792      \n",
      "_________________________________________________________________\n",
      "block1_conv2 (Conv2D)        (None, 224, 224, 64)      36928     \n",
      "_________________________________________________________________\n",
      "block1_pool (MaxPooling2D)   (None, 112, 112, 64)      0         \n",
      "_________________________________________________________________\n",
      "block2_conv1 (Conv2D)        (None, 112, 112, 128)     73856     \n",
      "_________________________________________________________________\n",
      "block2_conv2 (Conv2D)        (None, 112, 112, 128)     147584    \n",
      "_________________________________________________________________\n",
      "block2_pool (MaxPooling2D)   (None, 56, 56, 128)       0         \n",
      "_________________________________________________________________\n",
      "block3_conv1 (Conv2D)        (None, 56, 56, 256)       295168    \n",
      "_________________________________________________________________\n",
      "block3_conv2 (Conv2D)        (None, 56, 56, 256)       590080    \n",
      "_________________________________________________________________\n",
      "block3_conv3 (Conv2D)        (None, 56, 56, 256)       590080    \n",
      "_________________________________________________________________\n",
      "block3_pool (MaxPooling2D)   (None, 28, 28, 256)       0         \n",
      "_________________________________________________________________\n",
      "block4_conv1 (Conv2D)        (None, 28, 28, 512)       1180160   \n",
      "_________________________________________________________________\n",
      "block4_conv2 (Conv2D)        (None, 28, 28, 512)       2359808   \n",
      "_________________________________________________________________\n",
      "block4_conv3 (Conv2D)        (None, 28, 28, 512)       2359808   \n",
      "_________________________________________________________________\n",
      "block4_pool (MaxPooling2D)   (None, 14, 14, 512)       0         \n",
      "_________________________________________________________________\n",
      "block5_conv1 (Conv2D)        (None, 14, 14, 512)       2359808   \n",
      "_________________________________________________________________\n",
      "block5_conv2 (Conv2D)        (None, 14, 14, 512)       2359808   \n",
      "_________________________________________________________________\n",
      "block5_conv3 (Conv2D)        (None, 14, 14, 512)       2359808   \n",
      "_________________________________________________________________\n",
      "block5_pool (MaxPooling2D)   (None, 7, 7, 512)         0         \n",
      "=================================================================\n",
      "Total params: 14,714,688\n",
      "Trainable params: 14,714,688\n",
      "Non-trainable params: 0\n",
      "_________________________________________________________________\n"
     ]
    }
   ],
   "source": [
    "# model = modelImageNet('VGG16', ModelFileDict['VGG16'])\n",
    "model.summary()"
   ]
  },
  {
   "cell_type": "code",
   "execution_count": 11,
   "metadata": {},
   "outputs": [
    {
     "data": {
      "text/plain": [
       "[<tensorflow.python.keras.engine.input_layer.InputLayer at 0x135772710>,\n",
       " <tensorflow.python.keras.layers.convolutional.Conv2D at 0x135772a20>,\n",
       " <tensorflow.python.keras.layers.convolutional.Conv2D at 0x13067e860>,\n",
       " <tensorflow.python.keras.layers.pooling.MaxPooling2D at 0x13067ef60>,\n",
       " <tensorflow.python.keras.layers.convolutional.Conv2D at 0x131afdeb8>,\n",
       " <tensorflow.python.keras.layers.convolutional.Conv2D at 0x130670b38>,\n",
       " <tensorflow.python.keras.layers.pooling.MaxPooling2D at 0x139034eb8>,\n",
       " <tensorflow.python.keras.layers.convolutional.Conv2D at 0x13901c9b0>,\n",
       " <tensorflow.python.keras.layers.convolutional.Conv2D at 0x1357e4dd8>,\n",
       " <tensorflow.python.keras.layers.convolutional.Conv2D at 0x1358224e0>,\n",
       " <tensorflow.python.keras.layers.pooling.MaxPooling2D at 0x13585b0f0>,\n",
       " <tensorflow.python.keras.layers.convolutional.Conv2D at 0x13585b048>,\n",
       " <tensorflow.python.keras.layers.convolutional.Conv2D at 0x13588f5c0>,\n",
       " <tensorflow.python.keras.layers.convolutional.Conv2D at 0x1358cba20>,\n",
       " <tensorflow.python.keras.layers.pooling.MaxPooling2D at 0x1358ea7b8>,\n",
       " <tensorflow.python.keras.layers.convolutional.Conv2D at 0x1358ea780>,\n",
       " <tensorflow.python.keras.layers.convolutional.Conv2D at 0x135929ba8>,\n",
       " <tensorflow.python.keras.layers.convolutional.Conv2D at 0x123055a58>,\n",
       " <tensorflow.python.keras.layers.pooling.MaxPooling2D at 0x13597d7f0>]"
      ]
     },
     "execution_count": 11,
     "metadata": {},
     "output_type": "execute_result"
    }
   ],
   "source": [
    "model.layers"
   ]
  },
  {
   "cell_type": "code",
   "execution_count": 12,
   "metadata": {
    "scrolled": true
   },
   "outputs": [
    {
     "name": "stdout",
     "output_type": "stream",
     "text": [
      "conv2D_1.name   : block1_conv1\n",
      "conv2D_1.kernel : <tf.Variable 'block1_conv1_1/kernel:0' shape=(3, 3, 3, 64) dtype=float32>\n",
      "conv2D_1.bias   : <tf.Variable 'block1_conv1_1/bias:0' shape=(64,) dtype=float32>\n",
      "conv2D_1.strides: (1, 1)\n",
      "conv2D_1.padding: same\n"
     ]
    }
   ],
   "source": [
    "conv2D_1  = model.layers[1]\n",
    "print('conv2D_1.name   :',   conv2D_1.name)\n",
    "print('conv2D_1.kernel :', conv2D_1.kernel)\n",
    "print('conv2D_1.bias   :',   conv2D_1.bias)\n",
    "print('conv2D_1.strides:', conv2D_1.strides)\n",
    "print('conv2D_1.padding:', conv2D_1.padding)"
   ]
  },
  {
   "cell_type": "code",
   "execution_count": null,
   "metadata": {},
   "outputs": [],
   "source": [
    "maxPool  = model.layers[3]\n",
    "print('maxPool.name      :', maxPool.name)\n",
    "print('maxPool.strides   :', maxPool.strides)\n",
    "print('maxPool.padding   :', maxPool.padding)\n",
    "print('maxPool.pool_size :', maxPool.pool_size)"
   ]
  },
  {
   "cell_type": "code",
   "execution_count": null,
   "metadata": {},
   "outputs": [],
   "source": [
    "conv2D_1.kernel"
   ]
  },
  {
   "cell_type": "code",
   "execution_count": null,
   "metadata": {},
   "outputs": [],
   "source": [
    "modelwTop = modelImageNet('VGG16_includeTop', ModelFileDict['VGG16_includeTop'])\n",
    "modelwTop.summary()"
   ]
  },
  {
   "cell_type": "code",
   "execution_count": null,
   "metadata": {},
   "outputs": [],
   "source": [
    "modelwTop.layers"
   ]
  }
 ],
 "metadata": {
  "kernelspec": {
   "display_name": "Python 3",
   "language": "python",
   "name": "python3"
  },
  "language_info": {
   "codemirror_mode": {
    "name": "ipython",
    "version": 3
   },
   "file_extension": ".py",
   "mimetype": "text/x-python",
   "name": "python",
   "nbconvert_exporter": "python",
   "pygments_lexer": "ipython3",
   "version": "3.6.5"
  }
 },
 "nbformat": 4,
 "nbformat_minor": 2
}

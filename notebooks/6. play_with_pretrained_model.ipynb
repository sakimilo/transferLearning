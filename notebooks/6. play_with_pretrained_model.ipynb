{
 "cells": [
  {
   "cell_type": "code",
   "execution_count": 1,
   "metadata": {},
   "outputs": [],
   "source": [
    "import os\n",
    "os.chdir('../src')"
   ]
  },
  {
   "cell_type": "markdown",
   "metadata": {},
   "source": [
    "### load getData module"
   ]
  },
  {
   "cell_type": "code",
   "execution_count": 2,
   "metadata": {},
   "outputs": [
    {
     "name": "stdout",
     "output_type": "stream",
     "text": [
      "tf.__version__ : 1.13.1\n",
      "try fetching data..\n",
      "train_images <class 'numpy.ndarray'> (60000, 28, 28)\n",
      "train_labels <class 'numpy.ndarray'> (60000,)\n",
      "test_images <class 'numpy.ndarray'> (10000, 28, 28)\n",
      "test_labels <class 'numpy.ndarray'> (10000,)\n"
     ]
    }
   ],
   "source": [
    "%run modules/data/getData.py"
   ]
  },
  {
   "cell_type": "markdown",
   "metadata": {},
   "source": [
    "### load getPretrained module"
   ]
  },
  {
   "cell_type": "code",
   "execution_count": 3,
   "metadata": {},
   "outputs": [
    {
     "name": "stdout",
     "output_type": "stream",
     "text": [
      "tf.__version__ : 1.13.1\n",
      "keras.__version__: 2.2.4-tf\n"
     ]
    }
   ],
   "source": [
    "%run modules/model/getPretrained.py"
   ]
  },
  {
   "cell_type": "code",
   "execution_count": 4,
   "metadata": {},
   "outputs": [
    {
     "data": {
      "text/plain": [
       "{'Xception': '../models/xception_weights_tf_dim_ordering_tf_kernels_notop.h5',\n",
       " 'VGG16': '../models/vgg16_weights_tf_dim_ordering_tf_kernels_notop.h5',\n",
       " 'VGG16_includeTop': '../models/vgg16_weights_tf_dim_ordering_tf_kernels.h5',\n",
       " 'VGG19': '../models/vgg19_weights_tf_dim_ordering_tf_kernels_notop.h5',\n",
       " 'InceptionV3': '../models/inception_v3_weights_tf_dim_ordering_tf_kernels_notop.h5',\n",
       " 'MobileNet': '../models/mobilenet_1_0_224_tf_no_top.h5',\n",
       " 'DenseNet': '../models/densenet121_weights_tf_dim_ordering_tf_kernels_notop.h5',\n",
       " 'NASNet': '../models/nasnet_mobile_no_top.h5',\n",
       " 'ResNet50': '../models/resnet50_weights_tf_dim_ordering_tf_kernels_notop.h5',\n",
       " 'InceptionResNetV2': '../models/inception_resnet_v2_weights_tf_dim_ordering_tf_kernels_notop.h5'}"
      ]
     },
     "execution_count": 4,
     "metadata": {},
     "output_type": "execute_result"
    }
   ],
   "source": [
    "ModelFileDict = getModelFileDict()\n",
    "ModelFileDict"
   ]
  },
  {
   "cell_type": "code",
   "execution_count": 5,
   "metadata": {},
   "outputs": [
    {
     "name": "stdout",
     "output_type": "stream",
     "text": [
      "WARNING:tensorflow:From /Users/lingyit/Downloads/transferLearning/env/lib/python3.6/site-packages/tensorflow/python/ops/resource_variable_ops.py:435: colocate_with (from tensorflow.python.framework.ops) is deprecated and will be removed in a future version.\n",
      "Instructions for updating:\n",
      "Colocations handled automatically by placer.\n"
     ]
    }
   ],
   "source": [
    "model = modelImageNet('VGG16', ModelFileDict['VGG16'])"
   ]
  },
  {
   "cell_type": "code",
   "execution_count": 6,
   "metadata": {},
   "outputs": [
    {
     "name": "stdout",
     "output_type": "stream",
     "text": [
      "_________________________________________________________________\n",
      "Layer (type)                 Output Shape              Param #   \n",
      "=================================================================\n",
      "input_1 (InputLayer)         (None, 224, 224, 3)       0         \n",
      "_________________________________________________________________\n",
      "block1_conv1 (Conv2D)        (None, 224, 224, 64)      1792      \n",
      "_________________________________________________________________\n",
      "block1_conv2 (Conv2D)        (None, 224, 224, 64)      36928     \n",
      "_________________________________________________________________\n",
      "block1_pool (MaxPooling2D)   (None, 112, 112, 64)      0         \n",
      "_________________________________________________________________\n",
      "block2_conv1 (Conv2D)        (None, 112, 112, 128)     73856     \n",
      "_________________________________________________________________\n",
      "block2_conv2 (Conv2D)        (None, 112, 112, 128)     147584    \n",
      "_________________________________________________________________\n",
      "block2_pool (MaxPooling2D)   (None, 56, 56, 128)       0         \n",
      "_________________________________________________________________\n",
      "block3_conv1 (Conv2D)        (None, 56, 56, 256)       295168    \n",
      "_________________________________________________________________\n",
      "block3_conv2 (Conv2D)        (None, 56, 56, 256)       590080    \n",
      "_________________________________________________________________\n",
      "block3_conv3 (Conv2D)        (None, 56, 56, 256)       590080    \n",
      "_________________________________________________________________\n",
      "block3_pool (MaxPooling2D)   (None, 28, 28, 256)       0         \n",
      "_________________________________________________________________\n",
      "block4_conv1 (Conv2D)        (None, 28, 28, 512)       1180160   \n",
      "_________________________________________________________________\n",
      "block4_conv2 (Conv2D)        (None, 28, 28, 512)       2359808   \n",
      "_________________________________________________________________\n",
      "block4_conv3 (Conv2D)        (None, 28, 28, 512)       2359808   \n",
      "_________________________________________________________________\n",
      "block4_pool (MaxPooling2D)   (None, 14, 14, 512)       0         \n",
      "_________________________________________________________________\n",
      "block5_conv1 (Conv2D)        (None, 14, 14, 512)       2359808   \n",
      "_________________________________________________________________\n",
      "block5_conv2 (Conv2D)        (None, 14, 14, 512)       2359808   \n",
      "_________________________________________________________________\n",
      "block5_conv3 (Conv2D)        (None, 14, 14, 512)       2359808   \n",
      "_________________________________________________________________\n",
      "block5_pool (MaxPooling2D)   (None, 7, 7, 512)         0         \n",
      "=================================================================\n",
      "Total params: 14,714,688\n",
      "Trainable params: 14,714,688\n",
      "Non-trainable params: 0\n",
      "_________________________________________________________________\n"
     ]
    }
   ],
   "source": [
    "model.summary()"
   ]
  },
  {
   "cell_type": "code",
   "execution_count": 7,
   "metadata": {},
   "outputs": [
    {
     "data": {
      "text/plain": [
       "[<tensorflow.python.keras.engine.input_layer.InputLayer at 0x10ed41470>,\n",
       " <tensorflow.python.keras.layers.convolutional.Conv2D at 0x1378cd630>,\n",
       " <tensorflow.python.keras.layers.convolutional.Conv2D at 0x137982828>,\n",
       " <tensorflow.python.keras.layers.pooling.MaxPooling2D at 0x13e27a8d0>,\n",
       " <tensorflow.python.keras.layers.convolutional.Conv2D at 0x13e259400>,\n",
       " <tensorflow.python.keras.layers.convolutional.Conv2D at 0x13e2a4860>,\n",
       " <tensorflow.python.keras.layers.pooling.MaxPooling2D at 0x13e2e2160>,\n",
       " <tensorflow.python.keras.layers.convolutional.Conv2D at 0x13e2e2048>,\n",
       " <tensorflow.python.keras.layers.convolutional.Conv2D at 0x13e3190f0>,\n",
       " <tensorflow.python.keras.layers.convolutional.Conv2D at 0x13e356eb8>,\n",
       " <tensorflow.python.keras.layers.pooling.MaxPooling2D at 0x13e395358>,\n",
       " <tensorflow.python.keras.layers.convolutional.Conv2D at 0x13e379c18>,\n",
       " <tensorflow.python.keras.layers.convolutional.Conv2D at 0x13e3b74e0>,\n",
       " <tensorflow.python.keras.layers.convolutional.Conv2D at 0x13e3fb438>,\n",
       " <tensorflow.python.keras.layers.pooling.MaxPooling2D at 0x13e40cf98>,\n",
       " <tensorflow.python.keras.layers.convolutional.Conv2D at 0x13e435978>,\n",
       " <tensorflow.python.keras.layers.convolutional.Conv2D at 0x13e450c18>,\n",
       " <tensorflow.python.keras.layers.convolutional.Conv2D at 0x13e4abda0>,\n",
       " <tensorflow.python.keras.layers.pooling.MaxPooling2D at 0x13e4cd7f0>]"
      ]
     },
     "execution_count": 7,
     "metadata": {},
     "output_type": "execute_result"
    }
   ],
   "source": [
    "model.layers"
   ]
  },
  {
   "cell_type": "code",
   "execution_count": 8,
   "metadata": {},
   "outputs": [
    {
     "name": "stdout",
     "output_type": "stream",
     "text": [
      "<tensorflow.python.keras.layers.pooling.MaxPooling2D object at 0x13e4cd7f0>\n",
      "Tensor(\"block5_pool/MaxPool:0\", shape=(?, 7, 7, 512), dtype=float32)\n"
     ]
    }
   ],
   "source": [
    "maxPool_lastLayer = model.layers[-1]\n",
    "print(maxPool_lastLayer)\n",
    "print(maxPool_lastLayer.output)"
   ]
  },
  {
   "cell_type": "code",
   "execution_count": 9,
   "metadata": {},
   "outputs": [],
   "source": [
    "output_lastLayer  = maxPool_lastLayer.output"
   ]
  },
  {
   "cell_type": "code",
   "execution_count": 10,
   "metadata": {},
   "outputs": [],
   "source": [
    "with tf.variable_scope('additionalLayer'):\n",
    "    flattenLayer  = tf.layers.Flatten(data_format='channels_last', name='flattenLayer')\n",
    "    flattenOutput = flattenLayer(output_lastLayer)\n",
    "    \n",
    "    denseLayer    = tf.layers.Dense(units=4096, activation=tf.nn.relu, name='denseLayer')\n",
    "    output        = denseLayer(flattenOutput)"
   ]
  },
  {
   "cell_type": "code",
   "execution_count": 11,
   "metadata": {},
   "outputs": [],
   "source": [
    "outputTensorBoard('VGG16_autoencoder')"
   ]
  }
 ],
 "metadata": {
  "kernelspec": {
   "display_name": "Python 3",
   "language": "python",
   "name": "python3"
  },
  "language_info": {
   "codemirror_mode": {
    "name": "ipython",
    "version": 3
   },
   "file_extension": ".py",
   "mimetype": "text/x-python",
   "name": "python",
   "nbconvert_exporter": "python",
   "pygments_lexer": "ipython3",
   "version": "3.6.5"
  }
 },
 "nbformat": 4,
 "nbformat_minor": 2
}

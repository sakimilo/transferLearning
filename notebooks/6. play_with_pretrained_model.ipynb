{
 "cells": [
  {
   "cell_type": "code",
   "execution_count": null,
   "metadata": {},
   "outputs": [],
   "source": [
    "import os\n",
    "os.chdir('../src')\n",
    "\n",
    "os.environ[\"CUDA_VISIBLE_DEVICES\"]=\"0\""
   ]
  },
  {
   "cell_type": "markdown",
   "metadata": {},
   "source": [
    "### load getData module"
   ]
  },
  {
   "cell_type": "code",
   "execution_count": null,
   "metadata": {},
   "outputs": [],
   "source": [
    "%run modules/data/getData.py"
   ]
  },
  {
   "cell_type": "code",
   "execution_count": null,
   "metadata": {},
   "outputs": [],
   "source": [
    "data_shape    = (56, 56, 3)"
   ]
  },
  {
   "cell_type": "markdown",
   "metadata": {},
   "source": [
    "### Get properly formatted input data --> (image_id, image_height, image_width, channel)"
   ]
  },
  {
   "cell_type": "code",
   "execution_count": null,
   "metadata": {},
   "outputs": [],
   "source": [
    "inputDataDict = getInputDataDict( resize_shape=data_shape )"
   ]
  },
  {
   "cell_type": "code",
   "execution_count": null,
   "metadata": {},
   "outputs": [],
   "source": [
    "print( inputDataDict['train_images'].shape, inputDataDict['train_images'].max(), inputDataDict['train_images'].min() )\n",
    "print( inputDataDict['test_images'].shape, inputDataDict['test_images'].max(), inputDataDict['test_images'].min() )"
   ]
  },
  {
   "cell_type": "code",
   "execution_count": null,
   "metadata": {},
   "outputs": [],
   "source": [
    "trainData   = inputDataDict['train_images'].copy()\n",
    "np.random.shuffle( trainData )\n",
    "trainData   = trainData[:100]\n",
    "trainData.shape"
   ]
  },
  {
   "cell_type": "code",
   "execution_count": null,
   "metadata": {},
   "outputs": [],
   "source": [
    "dataToVisualise = trainData[:, :, :, 0]\n",
    "dataToVisualise = np.swapaxes( dataToVisualise, 0, 1 )\n",
    "dataToVisualise = np.swapaxes( dataToVisualise, 1, 2 )\n",
    "dataToVisualise.shape"
   ]
  },
  {
   "cell_type": "code",
   "execution_count": null,
   "metadata": {},
   "outputs": [],
   "source": [
    "visualiseStackedArray(dataToVisualise)"
   ]
  },
  {
   "cell_type": "markdown",
   "metadata": {},
   "source": [
    "### load getPretrained module"
   ]
  },
  {
   "cell_type": "code",
   "execution_count": null,
   "metadata": {},
   "outputs": [],
   "source": [
    "%run modules/model/getPretrained.py"
   ]
  },
  {
   "cell_type": "markdown",
   "metadata": {},
   "source": [
    "### Import autoencoder lib"
   ]
  },
  {
   "cell_type": "code",
   "execution_count": null,
   "metadata": {},
   "outputs": [],
   "source": [
    "from lib.model import autoencoder"
   ]
  },
  {
   "cell_type": "code",
   "execution_count": null,
   "metadata": {},
   "outputs": [],
   "source": [
    "ModelFileDict = getModelFileDict()\n",
    "ModelFileDict"
   ]
  },
  {
   "cell_type": "code",
   "execution_count": null,
   "metadata": {},
   "outputs": [],
   "source": [
    "model = modelImageNet('VGG16', ModelFileDict['VGG16'], input_shape=data_shape)"
   ]
  },
  {
   "cell_type": "code",
   "execution_count": null,
   "metadata": {},
   "outputs": [],
   "source": [
    "model.summary()"
   ]
  },
  {
   "cell_type": "code",
   "execution_count": null,
   "metadata": {},
   "outputs": [],
   "source": [
    "preTrainedLayers = model.layers\n",
    "preTrainedLayers"
   ]
  },
  {
   "cell_type": "code",
   "execution_count": null,
   "metadata": {},
   "outputs": [],
   "source": [
    "inputData = preTrainedLayers[0].output\n",
    "inputData"
   ]
  },
  {
   "cell_type": "code",
   "execution_count": null,
   "metadata": {},
   "outputs": [],
   "source": [
    "maxPool_lastLayer = preTrainedLayers[-1]\n",
    "print(maxPool_lastLayer)\n",
    "print(maxPool_lastLayer.output)"
   ]
  },
  {
   "cell_type": "code",
   "execution_count": null,
   "metadata": {},
   "outputs": [],
   "source": [
    "output_lastLayer  = maxPool_lastLayer.output"
   ]
  },
  {
   "cell_type": "code",
   "execution_count": null,
   "metadata": {},
   "outputs": [],
   "source": [
    "with tf.variable_scope('Flatten'):\n",
    "    flattenLayer  = tf.layers.Flatten(data_format='channels_last', name='flattenLayer')\n",
    "    flattenOutput = flattenLayer(output_lastLayer)"
   ]
  },
  {
   "cell_type": "code",
   "execution_count": null,
   "metadata": {},
   "outputs": [],
   "source": [
    "flattenOutput"
   ]
  },
  {
   "cell_type": "code",
   "execution_count": null,
   "metadata": {},
   "outputs": [],
   "source": [
    "aeNetwork         = autoencoder.AE_simple(layers=[300, 200], \n",
    "                                          activations=[tf.tanh, tf.tanh],\n",
    "                                          latentDim=10)"
   ]
  },
  {
   "cell_type": "code",
   "execution_count": null,
   "metadata": {},
   "outputs": [],
   "source": [
    "with tf.variable_scope('Autoencoder_Network'):\n",
    "    finalOutput         = aeNetwork( flattenOutput )\n",
    "    reconstructionLayer = tf.layers.Dense(units=np.prod(data_shape), activation=tf.nn.sigmoid, name='reconstructionLayer')\n",
    "    finalOutput         = reconstructionLayer( finalOutput )\n",
    "    finalOutput         = tf.reshape(finalOutput, shape=(-1, ) + data_shape, name='reshapeTo2D')"
   ]
  },
  {
   "cell_type": "code",
   "execution_count": null,
   "metadata": {
    "scrolled": false
   },
   "outputs": [],
   "source": [
    "finalOutput"
   ]
  },
  {
   "cell_type": "code",
   "execution_count": null,
   "metadata": {
    "scrolled": true
   },
   "outputs": [],
   "source": [
    "with tf.variable_scope('Optimisation'):\n",
    "    err                 = tf.losses.mean_squared_error(inputData, finalOutput)\n",
    "    opt                 = tf.train.AdamOptimizer().minimize( err )"
   ]
  },
  {
   "cell_type": "code",
   "execution_count": null,
   "metadata": {},
   "outputs": [],
   "source": [
    "outputTensorBoard('VGG16_autoencoder')"
   ]
  },
  {
   "cell_type": "markdown",
   "metadata": {},
   "source": [
    "Before we start training, let's turn off \"trainable\" for all pre-trained layers"
   ]
  },
  {
   "cell_type": "code",
   "execution_count": null,
   "metadata": {},
   "outputs": [],
   "source": [
    "for l in preTrainedLayers:\n",
    "    l.trainable = False"
   ]
  },
  {
   "cell_type": "code",
   "execution_count": null,
   "metadata": {},
   "outputs": [],
   "source": [
    "modelNew = keras.models.Model(inputs=model.input, outputs=reconstructionLayer.output)"
   ]
  },
  {
   "cell_type": "code",
   "execution_count": null,
   "metadata": {},
   "outputs": [],
   "source": [
    "modelNew.summary()"
   ]
  },
  {
   "cell_type": "code",
   "execution_count": null,
   "metadata": {},
   "outputs": [],
   "source": [
    "tf_config = tf.ConfigProto(gpu_options={'allow_growth' : True,\n",
    "                                        'per_process_gpu_memory_fraction' : 0.3\n",
    "                                        },\n",
    "                           allow_soft_placement = True,\n",
    "                           log_device_placement = False)\n",
    "\n",
    "with tf.Session(config=tf_config) as sess:\n",
    "    \n",
    "    sess.run( tf.global_variables_initializer() )\n",
    "    pbar  = tqdm( range(1000) )\n",
    "    \n",
    "    for i in pbar:\n",
    "        _, err_out = sess.run( [opt, err], \n",
    "                               feed_dict={\n",
    "                                   'input_1:0' : trainData\n",
    "                               })\n",
    "        description = 'err_out: {:.3f}'.format( err_out )\n",
    "        pbar.set_description( description )\n",
    "        \n",
    "    constructedImgs = sess.run( finalOutput,\n",
    "                                feed_dict={\n",
    "                                    'input_1:0' : trainData\n",
    "                                })"
   ]
  },
  {
   "cell_type": "code",
   "execution_count": null,
   "metadata": {},
   "outputs": [],
   "source": [
    "constructedImgs = constructedImgs[:, :, :, 0]\n",
    "constructedImgs = np.swapaxes(constructedImgs, 0, 1)\n",
    "constructedImgs = np.swapaxes(constructedImgs, 1, 2)\n",
    "constructedImgs.shape"
   ]
  },
  {
   "cell_type": "code",
   "execution_count": null,
   "metadata": {},
   "outputs": [],
   "source": [
    "visualiseStackedArray(constructedImgs)"
   ]
  }
 ],
 "metadata": {
  "kernelspec": {
   "display_name": "Python 3",
   "language": "python",
   "name": "python3"
  },
  "language_info": {
   "codemirror_mode": {
    "name": "ipython",
    "version": 3
   },
   "file_extension": ".py",
   "mimetype": "text/x-python",
   "name": "python",
   "nbconvert_exporter": "python",
   "pygments_lexer": "ipython3",
   "version": "3.6.0"
  }
 },
 "nbformat": 4,
 "nbformat_minor": 2
}

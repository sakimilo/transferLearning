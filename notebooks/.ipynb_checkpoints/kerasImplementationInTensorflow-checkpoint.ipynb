{
 "cells": [
  {
   "cell_type": "code",
   "execution_count": 1,
   "metadata": {},
   "outputs": [],
   "source": [
    "import tensorflow as tf\n",
    "from tensorflow import keras\n",
    "import shutil\n",
    "\n",
    "import numpy as np\n",
    "\n",
    "tfboardFolder = './train'\n",
    "shutil.rmtree(tfboardFolder)"
   ]
  },
  {
   "cell_type": "code",
   "execution_count": 2,
   "metadata": {
    "scrolled": true
   },
   "outputs": [
    {
     "data": {
      "text/plain": [
       "'2.1.6-tf'"
      ]
     },
     "execution_count": 2,
     "metadata": {},
     "output_type": "execute_result"
    }
   ],
   "source": [
    "keras.__version__"
   ]
  },
  {
   "cell_type": "code",
   "execution_count": 3,
   "metadata": {},
   "outputs": [],
   "source": [
    "input_shape = (224, 224, 3)\n",
    "base_model  = keras.applications.MobileNetV2(input_shape=input_shape, include_top=False, weights='imagenet')"
   ]
  },
  {
   "cell_type": "code",
   "execution_count": 6,
   "metadata": {},
   "outputs": [
    {
     "data": {
      "text/plain": [
       "tensorflow.python.keras.engine.training.Model"
      ]
     },
     "execution_count": 6,
     "metadata": {},
     "output_type": "execute_result"
    }
   ],
   "source": [
    "type(base_model)"
   ]
  },
  {
   "cell_type": "code",
   "execution_count": 4,
   "metadata": {},
   "outputs": [],
   "source": [
    "with tf.Session() as sess:\n",
    "    tfWriter = tf.summary.FileWriter('./train', sess.graph)\n",
    "    tfWriter.close()"
   ]
  },
  {
   "cell_type": "code",
   "execution_count": 16,
   "metadata": {},
   "outputs": [
    {
     "name": "stdout",
     "output_type": "stream",
     "text": [
      "Conv1/kernel:0\n",
      "bn_Conv1/gamma:0\n",
      "bn_Conv1/beta:0\n",
      "expanded_conv_depthwise/depthwise_kernel:0\n",
      "expanded_conv_depthwise_BN/gamma:0\n",
      "expanded_conv_depthwise_BN/beta:0\n",
      "expanded_conv_project/kernel:0\n",
      "expanded_conv_project_BN/gamma:0\n",
      "expanded_conv_project_BN/beta:0\n",
      "block_1_expand/kernel:0\n",
      "block_1_expand_BN/gamma:0\n",
      "block_1_expand_BN/beta:0\n",
      "block_1_depthwise/depthwise_kernel:0\n",
      "block_1_depthwise_BN/gamma:0\n",
      "block_1_depthwise_BN/beta:0\n",
      "block_1_project/kernel:0\n",
      "block_1_project_BN/gamma:0\n",
      "block_1_project_BN/beta:0\n",
      "block_2_expand/kernel:0\n",
      "block_2_expand_BN/gamma:0\n",
      "block_2_expand_BN/beta:0\n",
      "block_2_depthwise/depthwise_kernel:0\n",
      "block_2_depthwise_BN/gamma:0\n",
      "block_2_depthwise_BN/beta:0\n",
      "block_2_project/kernel:0\n",
      "block_2_project_BN/gamma:0\n",
      "block_2_project_BN/beta:0\n",
      "block_3_expand/kernel:0\n",
      "block_3_expand_BN/gamma:0\n",
      "block_3_expand_BN/beta:0\n",
      "block_3_depthwise/depthwise_kernel:0\n",
      "block_3_depthwise_BN/gamma:0\n",
      "block_3_depthwise_BN/beta:0\n",
      "block_3_project/kernel:0\n",
      "block_3_project_BN/gamma:0\n",
      "block_3_project_BN/beta:0\n",
      "block_4_expand/kernel:0\n",
      "block_4_expand_BN/gamma:0\n",
      "block_4_expand_BN/beta:0\n",
      "block_4_depthwise/depthwise_kernel:0\n",
      "block_4_depthwise_BN/gamma:0\n",
      "block_4_depthwise_BN/beta:0\n",
      "block_4_project/kernel:0\n",
      "block_4_project_BN/gamma:0\n",
      "block_4_project_BN/beta:0\n",
      "block_5_expand/kernel:0\n",
      "block_5_expand_BN/gamma:0\n",
      "block_5_expand_BN/beta:0\n",
      "block_5_depthwise/depthwise_kernel:0\n",
      "block_5_depthwise_BN/gamma:0\n",
      "block_5_depthwise_BN/beta:0\n",
      "block_5_project/kernel:0\n",
      "block_5_project_BN/gamma:0\n",
      "block_5_project_BN/beta:0\n",
      "block_6_expand/kernel:0\n",
      "block_6_expand_BN/gamma:0\n",
      "block_6_expand_BN/beta:0\n",
      "block_6_depthwise/depthwise_kernel:0\n",
      "block_6_depthwise_BN/gamma:0\n",
      "block_6_depthwise_BN/beta:0\n",
      "block_6_project/kernel:0\n",
      "block_6_project_BN/gamma:0\n",
      "block_6_project_BN/beta:0\n",
      "block_7_expand/kernel:0\n",
      "block_7_expand_BN/gamma:0\n",
      "block_7_expand_BN/beta:0\n",
      "block_7_depthwise/depthwise_kernel:0\n",
      "block_7_depthwise_BN/gamma:0\n",
      "block_7_depthwise_BN/beta:0\n",
      "block_7_project/kernel:0\n",
      "block_7_project_BN/gamma:0\n",
      "block_7_project_BN/beta:0\n",
      "block_8_expand/kernel:0\n",
      "block_8_expand_BN/gamma:0\n",
      "block_8_expand_BN/beta:0\n",
      "block_8_depthwise/depthwise_kernel:0\n",
      "block_8_depthwise_BN/gamma:0\n",
      "block_8_depthwise_BN/beta:0\n",
      "block_8_project/kernel:0\n",
      "block_8_project_BN/gamma:0\n",
      "block_8_project_BN/beta:0\n",
      "block_9_expand/kernel:0\n",
      "block_9_expand_BN/gamma:0\n",
      "block_9_expand_BN/beta:0\n",
      "block_9_depthwise/depthwise_kernel:0\n",
      "block_9_depthwise_BN/gamma:0\n",
      "block_9_depthwise_BN/beta:0\n",
      "block_9_project/kernel:0\n",
      "block_9_project_BN/gamma:0\n",
      "block_9_project_BN/beta:0\n",
      "block_10_expand/kernel:0\n",
      "block_10_expand_BN/gamma:0\n",
      "block_10_expand_BN/beta:0\n",
      "block_10_depthwise/depthwise_kernel:0\n",
      "block_10_depthwise_BN/gamma:0\n",
      "block_10_depthwise_BN/beta:0\n",
      "block_10_project/kernel:0\n",
      "block_10_project_BN/gamma:0\n",
      "block_10_project_BN/beta:0\n",
      "block_11_expand/kernel:0\n",
      "block_11_expand_BN/gamma:0\n",
      "block_11_expand_BN/beta:0\n",
      "block_11_depthwise/depthwise_kernel:0\n",
      "block_11_depthwise_BN/gamma:0\n",
      "block_11_depthwise_BN/beta:0\n",
      "block_11_project/kernel:0\n",
      "block_11_project_BN/gamma:0\n",
      "block_11_project_BN/beta:0\n",
      "block_12_expand/kernel:0\n",
      "block_12_expand_BN/gamma:0\n",
      "block_12_expand_BN/beta:0\n",
      "block_12_depthwise/depthwise_kernel:0\n",
      "block_12_depthwise_BN/gamma:0\n",
      "block_12_depthwise_BN/beta:0\n",
      "block_12_project/kernel:0\n",
      "block_12_project_BN/gamma:0\n",
      "block_12_project_BN/beta:0\n",
      "block_13_expand/kernel:0\n",
      "block_13_expand_BN/gamma:0\n",
      "block_13_expand_BN/beta:0\n",
      "block_13_depthwise/depthwise_kernel:0\n",
      "block_13_depthwise_BN/gamma:0\n",
      "block_13_depthwise_BN/beta:0\n",
      "block_13_project/kernel:0\n",
      "block_13_project_BN/gamma:0\n",
      "block_13_project_BN/beta:0\n",
      "block_14_expand/kernel:0\n",
      "block_14_expand_BN/gamma:0\n",
      "block_14_expand_BN/beta:0\n",
      "block_14_depthwise/depthwise_kernel:0\n",
      "block_14_depthwise_BN/gamma:0\n",
      "block_14_depthwise_BN/beta:0\n",
      "block_14_project/kernel:0\n",
      "block_14_project_BN/gamma:0\n",
      "block_14_project_BN/beta:0\n",
      "block_15_expand/kernel:0\n",
      "block_15_expand_BN/gamma:0\n",
      "block_15_expand_BN/beta:0\n",
      "block_15_depthwise/depthwise_kernel:0\n",
      "block_15_depthwise_BN/gamma:0\n",
      "block_15_depthwise_BN/beta:0\n",
      "block_15_project/kernel:0\n",
      "block_15_project_BN/gamma:0\n",
      "block_15_project_BN/beta:0\n",
      "block_16_expand/kernel:0\n",
      "block_16_expand_BN/gamma:0\n",
      "block_16_expand_BN/beta:0\n",
      "block_16_depthwise/depthwise_kernel:0\n",
      "block_16_depthwise_BN/gamma:0\n",
      "block_16_depthwise_BN/beta:0\n",
      "block_16_project/kernel:0\n",
      "block_16_project_BN/gamma:0\n",
      "block_16_project_BN/beta:0\n",
      "Conv_1/kernel:0\n",
      "Conv_1_bn/gamma:0\n",
      "Conv_1_bn/beta:0\n"
     ]
    }
   ],
   "source": [
    "for node in tf.get_collection(tf.GraphKeys.TRAINABLE_VARIABLES):\n",
    "    print(node.name)"
   ]
  },
  {
   "cell_type": "code",
   "execution_count": 20,
   "metadata": {},
   "outputs": [
    {
     "data": {
      "text/plain": [
       "<tf.Variable 'Conv1/kernel:0' shape=(3, 3, 3, 32) dtype=float32>"
      ]
     },
     "execution_count": 20,
     "metadata": {},
     "output_type": "execute_result"
    }
   ],
   "source": [
    "a"
   ]
  },
  {
   "cell_type": "code",
   "execution_count": 21,
   "metadata": {},
   "outputs": [],
   "source": [
    "with tf.Session() as sess:\n",
    "    sess.run(tf.global_variables_initializer())\n",
    "    conv1Kernel = sess.run( a )"
   ]
  },
  {
   "cell_type": "code",
   "execution_count": 24,
   "metadata": {},
   "outputs": [
    {
     "data": {
      "text/plain": [
       "(3, 3, 3, 32)"
      ]
     },
     "execution_count": 24,
     "metadata": {},
     "output_type": "execute_result"
    }
   ],
   "source": [
    "conv1Kernel.shape"
   ]
  },
  {
   "cell_type": "code",
   "execution_count": null,
   "metadata": {},
   "outputs": [],
   "source": [
    "input_img = tf.placeholder(tf.float32, (1, 224, 224, 3), name='input_img')\n",
    "output    = base_model(input_img)"
   ]
  },
  {
   "cell_type": "code",
   "execution_count": null,
   "metadata": {},
   "outputs": [],
   "source": [
    "img       = np.random.randint(0, 5, (1, 224, 224, 3))\n",
    "\n",
    "with tf.Session() as sess:\n",
    "    train_writer = tf.summary.FileWriter('./train', sess.graph)\n",
    "    sess.run(tf.global_variables_initializer())\n",
    "    \n",
    "    output_val = sess.run(output, {input_img: img})\n",
    "    train_writer.close()"
   ]
  },
  {
   "cell_type": "code",
   "execution_count": null,
   "metadata": {},
   "outputs": [],
   "source": []
  }
 ],
 "metadata": {
  "kernelspec": {
   "display_name": "Python 3",
   "language": "python",
   "name": "python3"
  },
  "language_info": {
   "codemirror_mode": {
    "name": "ipython",
    "version": 3
   },
   "file_extension": ".py",
   "mimetype": "text/x-python",
   "name": "python",
   "nbconvert_exporter": "python",
   "pygments_lexer": "ipython3",
   "version": "3.6.5"
  }
 },
 "nbformat": 4,
 "nbformat_minor": 2
}

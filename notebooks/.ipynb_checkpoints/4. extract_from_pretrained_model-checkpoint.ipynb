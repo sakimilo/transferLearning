{
 "cells": [
  {
   "cell_type": "code",
   "execution_count": 1,
   "metadata": {},
   "outputs": [],
   "source": [
    "import os\n",
    "os.chdir('../src')"
   ]
  },
  {
   "cell_type": "markdown",
   "metadata": {},
   "source": [
    "### load getPretrained module"
   ]
  },
  {
   "cell_type": "code",
   "execution_count": 2,
   "metadata": {},
   "outputs": [
    {
     "name": "stdout",
     "output_type": "stream",
     "text": [
      "tf.__version__ : 1.13.1\n",
      "keras.__version__: 2.2.4-tf\n"
     ]
    }
   ],
   "source": [
    "%run modules/model/getPretrained.py"
   ]
  },
  {
   "cell_type": "code",
   "execution_count": 3,
   "metadata": {},
   "outputs": [
    {
     "data": {
      "text/plain": [
       "{'Xception': '../models/xception_weights_tf_dim_ordering_tf_kernels_notop.h5',\n",
       " 'VGG16': '../models/vgg16_weights_tf_dim_ordering_tf_kernels_notop.h5',\n",
       " 'VGG16_includeTop': '../models/vgg16_weights_tf_dim_ordering_tf_kernels.h5',\n",
       " 'VGG19': '../models/vgg19_weights_tf_dim_ordering_tf_kernels_notop.h5',\n",
       " 'InceptionV3': '../models/inception_v3_weights_tf_dim_ordering_tf_kernels_notop.h5',\n",
       " 'MobileNet': '../models/mobilenet_1_0_224_tf_no_top.h5',\n",
       " 'DenseNet': '../models/densenet121_weights_tf_dim_ordering_tf_kernels_notop.h5',\n",
       " 'NASNet': '../models/nasnet_mobile_no_top.h5',\n",
       " 'ResNet50': '../models/resnet50_weights_tf_dim_ordering_tf_kernels_notop.h5',\n",
       " 'InceptionResNetV2': '../models/inception_resnet_v2_weights_tf_dim_ordering_tf_kernels_notop.h5'}"
      ]
     },
     "execution_count": 3,
     "metadata": {},
     "output_type": "execute_result"
    }
   ],
   "source": [
    "ModelFileDict = getModelFileDict()\n",
    "ModelFileDict"
   ]
  },
  {
   "cell_type": "code",
   "execution_count": 4,
   "metadata": {},
   "outputs": [
    {
     "name": "stdout",
     "output_type": "stream",
     "text": [
      "WARNING:tensorflow:From /Users/lingyit/Downloads/transferLearning/env/lib/python3.6/site-packages/tensorflow/python/ops/resource_variable_ops.py:435: colocate_with (from tensorflow.python.framework.ops) is deprecated and will be removed in a future version.\n",
      "Instructions for updating:\n",
      "Colocations handled automatically by placer.\n",
      "_________________________________________________________________\n",
      "Layer (type)                 Output Shape              Param #   \n",
      "=================================================================\n",
      "input_1 (InputLayer)         (None, 224, 224, 3)       0         \n",
      "_________________________________________________________________\n",
      "block1_conv1 (Conv2D)        (None, 224, 224, 64)      1792      \n",
      "_________________________________________________________________\n",
      "block1_conv2 (Conv2D)        (None, 224, 224, 64)      36928     \n",
      "_________________________________________________________________\n",
      "block1_pool (MaxPooling2D)   (None, 112, 112, 64)      0         \n",
      "_________________________________________________________________\n",
      "block2_conv1 (Conv2D)        (None, 112, 112, 128)     73856     \n",
      "_________________________________________________________________\n",
      "block2_conv2 (Conv2D)        (None, 112, 112, 128)     147584    \n",
      "_________________________________________________________________\n",
      "block2_pool (MaxPooling2D)   (None, 56, 56, 128)       0         \n",
      "_________________________________________________________________\n",
      "block3_conv1 (Conv2D)        (None, 56, 56, 256)       295168    \n",
      "_________________________________________________________________\n",
      "block3_conv2 (Conv2D)        (None, 56, 56, 256)       590080    \n",
      "_________________________________________________________________\n",
      "block3_conv3 (Conv2D)        (None, 56, 56, 256)       590080    \n",
      "_________________________________________________________________\n",
      "block3_pool (MaxPooling2D)   (None, 28, 28, 256)       0         \n",
      "_________________________________________________________________\n",
      "block4_conv1 (Conv2D)        (None, 28, 28, 512)       1180160   \n",
      "_________________________________________________________________\n",
      "block4_conv2 (Conv2D)        (None, 28, 28, 512)       2359808   \n",
      "_________________________________________________________________\n",
      "block4_conv3 (Conv2D)        (None, 28, 28, 512)       2359808   \n",
      "_________________________________________________________________\n",
      "block4_pool (MaxPooling2D)   (None, 14, 14, 512)       0         \n",
      "_________________________________________________________________\n",
      "block5_conv1 (Conv2D)        (None, 14, 14, 512)       2359808   \n",
      "_________________________________________________________________\n",
      "block5_conv2 (Conv2D)        (None, 14, 14, 512)       2359808   \n",
      "_________________________________________________________________\n",
      "block5_conv3 (Conv2D)        (None, 14, 14, 512)       2359808   \n",
      "_________________________________________________________________\n",
      "block5_pool (MaxPooling2D)   (None, 7, 7, 512)         0         \n",
      "_________________________________________________________________\n",
      "flatten (Flatten)            (None, 25088)             0         \n",
      "_________________________________________________________________\n",
      "fc1 (Dense)                  (None, 4096)              102764544 \n",
      "_________________________________________________________________\n",
      "fc2 (Dense)                  (None, 4096)              16781312  \n",
      "_________________________________________________________________\n",
      "predictions (Dense)          (None, 1000)              4097000   \n",
      "=================================================================\n",
      "Total params: 138,357,544\n",
      "Trainable params: 138,357,544\n",
      "Non-trainable params: 0\n",
      "_________________________________________________________________\n"
     ]
    }
   ],
   "source": [
    "model = modelImageNet('VGG16_includeTop', ModelFileDict['VGG16_includeTop'])\n",
    "model.summary()"
   ]
  },
  {
   "cell_type": "code",
   "execution_count": 5,
   "metadata": {},
   "outputs": [
    {
     "data": {
      "text/plain": [
       "[<tensorflow.python.keras.engine.input_layer.InputLayer at 0x133d58c50>,\n",
       " <tensorflow.python.keras.layers.convolutional.Conv2D at 0x133d58c18>,\n",
       " <tensorflow.python.keras.layers.convolutional.Conv2D at 0x133ccddd8>,\n",
       " <tensorflow.python.keras.layers.pooling.MaxPooling2D at 0x133e09da0>,\n",
       " <tensorflow.python.keras.layers.convolutional.Conv2D at 0x133de3860>,\n",
       " <tensorflow.python.keras.layers.convolutional.Conv2D at 0x133e31fd0>,\n",
       " <tensorflow.python.keras.layers.pooling.MaxPooling2D at 0x133e76828>,\n",
       " <tensorflow.python.keras.layers.convolutional.Conv2D at 0x133e76ef0>,\n",
       " <tensorflow.python.keras.layers.convolutional.Conv2D at 0x133eb0d30>,\n",
       " <tensorflow.python.keras.layers.convolutional.Conv2D at 0x133ef0320>,\n",
       " <tensorflow.python.keras.layers.pooling.MaxPooling2D at 0x133f08ef0>,\n",
       " <tensorflow.python.keras.layers.convolutional.Conv2D at 0x133f2cda0>,\n",
       " <tensorflow.python.keras.layers.convolutional.Conv2D at 0x133f47d30>,\n",
       " <tensorflow.python.keras.layers.convolutional.Conv2D at 0x133fa8f98>,\n",
       " <tensorflow.python.keras.layers.pooling.MaxPooling2D at 0x133fc85f8>,\n",
       " <tensorflow.python.keras.layers.convolutional.Conv2D at 0x133fc85c0>,\n",
       " <tensorflow.python.keras.layers.convolutional.Conv2D at 0x13400bb38>,\n",
       " <tensorflow.python.keras.layers.convolutional.Conv2D at 0x134047160>,\n",
       " <tensorflow.python.keras.layers.pooling.MaxPooling2D at 0x134063d68>,\n",
       " <tensorflow.python.keras.layers.core.Flatten at 0x13407ffd0>,\n",
       " <tensorflow.python.keras.layers.core.Dense at 0x1340a3978>,\n",
       " <tensorflow.python.keras.layers.core.Dense at 0x1340c2ac8>,\n",
       " <tensorflow.python.keras.layers.core.Dense at 0x1340a3b00>]"
      ]
     },
     "execution_count": 5,
     "metadata": {},
     "output_type": "execute_result"
    }
   ],
   "source": [
    "model.layers"
   ]
  },
  {
   "cell_type": "code",
   "execution_count": 6,
   "metadata": {},
   "outputs": [
    {
     "data": {
      "text/plain": [
       "<tensorflow.python.keras.layers.convolutional.Conv2D at 0x133d58c18>"
      ]
     },
     "execution_count": 6,
     "metadata": {},
     "output_type": "execute_result"
    }
   ],
   "source": [
    "conv2D_layer1 = model.layers[1]\n",
    "conv2D_layer1"
   ]
  },
  {
   "cell_type": "code",
   "execution_count": 7,
   "metadata": {},
   "outputs": [
    {
     "data": {
      "text/plain": [
       "[<tf.Variable 'block1_conv1/kernel:0' shape=(3, 3, 3, 64) dtype=float32>,\n",
       " <tf.Variable 'block1_conv1/bias:0' shape=(64,) dtype=float32>]"
      ]
     },
     "execution_count": 7,
     "metadata": {},
     "output_type": "execute_result"
    }
   ],
   "source": [
    "block1_conv1_kernel, block1_conv1_bias = conv2D_layer1.variables\n",
    "conv2D_layer1.variables"
   ]
  },
  {
   "cell_type": "code",
   "execution_count": 8,
   "metadata": {},
   "outputs": [
    {
     "data": {
      "text/plain": [
       "[<tf.Variable 'block1_conv1/kernel:0' shape=(3, 3, 3, 64) dtype=float32>,\n",
       " <tf.Variable 'block1_conv1/bias:0' shape=(64,) dtype=float32>]"
      ]
     },
     "execution_count": 8,
     "metadata": {},
     "output_type": "execute_result"
    }
   ],
   "source": [
    "conv2D_layer1.weights"
   ]
  },
  {
   "cell_type": "code",
   "execution_count": 9,
   "metadata": {},
   "outputs": [
    {
     "data": {
      "text/plain": [
       "(<tf.Variable 'block1_conv1/kernel:0' shape=(3, 3, 3, 64) dtype=float32>,\n",
       " <tf.Variable 'block1_conv1/bias:0' shape=(64,) dtype=float32>)"
      ]
     },
     "execution_count": 9,
     "metadata": {},
     "output_type": "execute_result"
    }
   ],
   "source": [
    "conv2D_layer1.kernel, conv2D_layer1.bias"
   ]
  },
  {
   "cell_type": "code",
   "execution_count": 10,
   "metadata": {},
   "outputs": [
    {
     "name": "stdout",
     "output_type": "stream",
     "text": [
      "(3, 3, 3, 64)\n",
      "(64,)\n"
     ]
    }
   ],
   "source": [
    "weightsList = model.get_layer ('block1_conv1').get_weights()\n",
    "\n",
    "for w in weightsList:\n",
    "    print(w.shape)"
   ]
  },
  {
   "cell_type": "code",
   "execution_count": 11,
   "metadata": {},
   "outputs": [],
   "source": [
    "conv1_kernel, conv1_bias  = model.get_layer ('block1_conv1').get_weights()"
   ]
  },
  {
   "cell_type": "code",
   "execution_count": 12,
   "metadata": {
    "scrolled": true
   },
   "outputs": [
    {
     "name": "stdout",
     "output_type": "stream",
     "text": [
      "(64,)\n",
      "[ 0.73429835  0.09340367  0.06775674  0.8862966   0.25994542  0.66426694\n",
      " -0.01582893  0.3249065   0.68600726  0.06247932  0.58156496  0.2361475\n",
      "  0.69694996  0.19451167  0.4858922   0.44571847  0.5113422   0.208576\n",
      "  0.57557714  0.33199573  0.4997983   0.7117759   0.30284074  0.7082712\n",
      "  0.04548979  0.7446502   0.29845494  0.48211655  0.81658626  0.62603897\n",
      "  0.3768093   2.064037    0.77311045  0.3459577   0.6130958   0.65459156\n",
      "  0.39045632  0.50869167  0.2625384   0.23669638  0.07971057  1.1179353\n",
      "  0.26129362  0.8697589   0.21543622  0.78007823  0.37015367  0.47993386\n",
      "  0.4313978   0.5084194   0.23049663  0.7636527   0.35419866  0.45794216\n",
      "  0.4662595   0.09850298  0.3803252   0.66880196  0.4015123   0.90510356\n",
      "  0.43166816  1.302014    0.5306885   0.48993504]\n"
     ]
    }
   ],
   "source": [
    "print(conv1_bias.shape)\n",
    "print(conv1_bias)"
   ]
  },
  {
   "cell_type": "code",
   "execution_count": 13,
   "metadata": {},
   "outputs": [
    {
     "name": "stdout",
     "output_type": "stream",
     "text": [
      "WARNING:tensorflow:From /Users/lingyit/Downloads/transferLearning/env/lib/python3.6/site-packages/tensorflow/python/keras/engine/network.py:1436: update_checkpoint_state (from tensorflow.python.training.checkpoint_management) is deprecated and will be removed in a future version.\n",
      "Instructions for updating:\n",
      "Use tf.train.CheckpointManager to manage checkpoints rather than manually editing the Checkpoint proto.\n"
     ]
    }
   ],
   "source": [
    "saver          = tf.train.Saver(var_list=tf.trainable_variables())\n",
    "checkPoint     = '../notebooks/model_checkpoints/tutorial4/vgg16_model.ckpt'\n",
    "model.save_weights( checkPoint )"
   ]
  },
  {
   "cell_type": "code",
   "execution_count": 14,
   "metadata": {},
   "outputs": [
    {
     "name": "stdout",
     "output_type": "stream",
     "text": [
      "WARNING:tensorflow:From /Users/lingyit/Downloads/transferLearning/env/lib/python3.6/site-packages/tensorflow/python/training/saver.py:1266: checkpoint_exists (from tensorflow.python.training.checkpoint_management) is deprecated and will be removed in a future version.\n",
      "Instructions for updating:\n",
      "Use standard file APIs to check for files with this prefix.\n",
      "INFO:tensorflow:Restoring parameters from ../notebooks/model_checkpoints/tutorial4/vgg16_model.ckpt\n",
      "WARNING:tensorflow:Restoring an object-based checkpoint using a name-based saver. This may be somewhat fragile, and will re-build the Saver. Instead, consider loading object-based checkpoints using tf.train.Checkpoint().\n",
      "INFO:tensorflow:Restoring parameters from ../notebooks/model_checkpoints/tutorial4/vgg16_model.ckpt\n"
     ]
    }
   ],
   "source": [
    "sess           = tf.Session()\n",
    "sess.run( tf.global_variables_initializer() )\n",
    "\n",
    "saver.restore( sess, checkPoint )"
   ]
  },
  {
   "cell_type": "code",
   "execution_count": 15,
   "metadata": {},
   "outputs": [],
   "source": [
    "weightsOutput  = sess.run( [block1_conv1_kernel, block1_conv1_bias, 'block1_conv1/Relu:0'], \n",
    "                           feed_dict={\n",
    "                                'input_1:0' : np.random.random(size=(1, 224, 224, 3))\n",
    "                            })\n",
    "conv1_kernel_x = weightsOutput[0]\n",
    "conv1_bias_x   = weightsOutput[1]\n",
    "conv1_relu_x   = weightsOutput[2]"
   ]
  },
  {
   "cell_type": "code",
   "execution_count": 16,
   "metadata": {},
   "outputs": [
    {
     "name": "stdout",
     "output_type": "stream",
     "text": [
      "(64,)\n",
      "[ 0.73429835  0.09340367  0.06775674  0.8862966   0.25994542  0.66426694\n",
      " -0.01582893  0.3249065   0.68600726  0.06247932  0.58156496  0.2361475\n",
      "  0.69694996  0.19451167  0.4858922   0.44571847  0.5113422   0.208576\n",
      "  0.57557714  0.33199573  0.4997983   0.7117759   0.30284074  0.7082712\n",
      "  0.04548979  0.7446502   0.29845494  0.48211655  0.81658626  0.62603897\n",
      "  0.3768093   2.064037    0.77311045  0.3459577   0.6130958   0.65459156\n",
      "  0.39045632  0.50869167  0.2625384   0.23669638  0.07971057  1.1179353\n",
      "  0.26129362  0.8697589   0.21543622  0.78007823  0.37015367  0.47993386\n",
      "  0.4313978   0.5084194   0.23049663  0.7636527   0.35419866  0.45794216\n",
      "  0.4662595   0.09850298  0.3803252   0.66880196  0.4015123   0.90510356\n",
      "  0.43166816  1.302014    0.5306885   0.48993504]\n"
     ]
    }
   ],
   "source": [
    "print(conv1_bias_x.shape)\n",
    "print(conv1_bias_x)"
   ]
  },
  {
   "cell_type": "code",
   "execution_count": 17,
   "metadata": {
    "scrolled": true
   },
   "outputs": [
    {
     "name": "stdout",
     "output_type": "stream",
     "text": [
      "True\n",
      "True\n"
     ]
    }
   ],
   "source": [
    "print(np.array_equal(conv1_kernel, conv1_kernel_x))\n",
    "print(np.array_equal(conv1_bias, conv1_bias_x))"
   ]
  },
  {
   "cell_type": "code",
   "execution_count": 18,
   "metadata": {},
   "outputs": [
    {
     "data": {
      "text/plain": [
       "(<tf.Tensor 'input_1:0' shape=(?, 224, 224, 3) dtype=float32>,\n",
       " <tf.Tensor 'block1_conv1/Relu:0' shape=(?, 224, 224, 64) dtype=float32>)"
      ]
     },
     "execution_count": 18,
     "metadata": {},
     "output_type": "execute_result"
    }
   ],
   "source": [
    "conv2D_layer1.input, conv2D_layer1.output"
   ]
  },
  {
   "cell_type": "code",
   "execution_count": 19,
   "metadata": {},
   "outputs": [],
   "source": [
    "conv1_output = sess.run( 'block1_conv1/Relu:0', \n",
    "                          feed_dict={\n",
    "                            'input_1:0' : np.random.random(size=(1, 224, 224, 3))\n",
    "                          })"
   ]
  },
  {
   "cell_type": "code",
   "execution_count": 20,
   "metadata": {},
   "outputs": [
    {
     "data": {
      "text/plain": [
       "(1, 224, 224, 64)"
      ]
     },
     "execution_count": 20,
     "metadata": {},
     "output_type": "execute_result"
    }
   ],
   "source": [
    "conv1_output.shape"
   ]
  },
  {
   "cell_type": "code",
   "execution_count": 21,
   "metadata": {},
   "outputs": [
    {
     "data": {
      "text/plain": [
       "array([[[[0.        , 0.21005946, 0.05197417, ..., 0.7088819 ,\n",
       "          0.51202613, 0.3796438 ],\n",
       "         [0.        , 0.26709127, 0.55960333, ..., 0.4782524 ,\n",
       "          1.8959808 , 1.4793127 ],\n",
       "         [0.        , 0.2108356 , 0.43328723, ..., 0.40859687,\n",
       "          1.7723416 , 1.2313716 ],\n",
       "         ...,\n",
       "         [0.        , 0.39979908, 0.27961093, ..., 0.57331717,\n",
       "          1.2712646 , 0.9807762 ],\n",
       "         [0.        , 0.31808692, 0.3392951 , ..., 0.17746961,\n",
       "          1.6338897 , 0.99731016],\n",
       "         [0.61497504, 0.27316466, 0.75651765, ..., 0.7418817 ,\n",
       "          2.5455933 , 2.0668368 ]],\n",
       "\n",
       "        [[0.        , 0.22828332, 0.        , ..., 0.2900406 ,\n",
       "          0.        , 0.        ],\n",
       "         [0.7524733 , 0.31184763, 0.26602063, ..., 0.        ,\n",
       "          0.43185672, 0.3277536 ],\n",
       "         [0.5883277 , 0.18376592, 0.24773727, ..., 0.        ,\n",
       "          0.74377215, 0.4416495 ],\n",
       "         ...,\n",
       "         [1.0676152 , 0.40814316, 0.2797404 , ..., 0.17515647,\n",
       "          0.32249078, 0.599574  ],\n",
       "         [0.98402154, 0.34396288, 0.08456825, ..., 0.        ,\n",
       "          0.        , 0.        ],\n",
       "         [2.0677252 , 0.31678915, 0.78231907, ..., 0.48441017,\n",
       "          1.5491422 , 1.8312325 ]],\n",
       "\n",
       "        [[0.        , 0.1724861 , 0.        , ..., 0.27409303,\n",
       "          0.        , 0.        ],\n",
       "         [0.        , 0.3232381 , 0.37581098, ..., 0.        ,\n",
       "          0.86534894, 0.5908245 ],\n",
       "         [0.6158102 , 0.27865916, 0.5924548 , ..., 0.        ,\n",
       "          1.2500963 , 1.0839293 ],\n",
       "         ...,\n",
       "         [1.0582752 , 0.37471706, 0.38894823, ..., 0.08379698,\n",
       "          1.150898  , 0.85873437],\n",
       "         [0.33382168, 0.26746285, 0.        , ..., 0.        ,\n",
       "          0.        , 0.        ],\n",
       "         [1.8590972 , 0.12831467, 0.61287844, ..., 0.5515442 ,\n",
       "          1.2401664 , 1.4938754 ]],\n",
       "\n",
       "        ...,\n",
       "\n",
       "        [[0.29404005, 0.0141248 , 0.        , ..., 0.53787243,\n",
       "          0.        , 0.        ],\n",
       "         [1.1534481 , 0.        , 0.08693331, ..., 0.        ,\n",
       "          0.        , 0.06714171],\n",
       "         [0.6702282 , 0.        , 0.        , ..., 0.        ,\n",
       "          0.        , 0.        ],\n",
       "         ...,\n",
       "         [0.        , 0.27184612, 0.1895532 , ..., 0.        ,\n",
       "          0.2861033 , 0.29950184],\n",
       "         [1.2285407 , 0.31188953, 0.63038695, ..., 0.        ,\n",
       "          1.0101224 , 1.2242174 ],\n",
       "         [2.416727  , 0.09587414, 0.9603201 , ..., 0.3090431 ,\n",
       "          2.2761433 , 2.1230488 ]],\n",
       "\n",
       "        [[0.15972733, 0.        , 0.00584702, ..., 0.69514096,\n",
       "          0.10542604, 0.30313256],\n",
       "         [0.18271005, 0.        , 0.        , ..., 0.01508415,\n",
       "          0.24259973, 0.09618744],\n",
       "         [0.        , 0.        , 0.        , ..., 0.        ,\n",
       "          0.19197005, 0.1562646 ],\n",
       "         ...,\n",
       "         [1.0155678 , 0.25198585, 0.29846352, ..., 0.        ,\n",
       "          0.34464622, 0.4633152 ],\n",
       "         [1.4081638 , 0.26373768, 0.32228518, ..., 0.        ,\n",
       "          0.20128942, 0.45021853],\n",
       "         [2.4821777 , 0.1291106 , 0.8832303 , ..., 0.39159232,\n",
       "          1.8866109 , 1.933248  ]],\n",
       "\n",
       "        [[0.9193266 , 0.10702337, 0.12304631, ..., 0.91734266,\n",
       "          0.        , 0.43263638],\n",
       "         [1.119664  , 0.        , 0.12347141, ..., 0.44689107,\n",
       "          0.        , 0.2459299 ],\n",
       "         [1.2859056 , 0.033081  , 0.2926056 , ..., 0.47719276,\n",
       "          0.        , 0.64343333],\n",
       "         ...,\n",
       "         [2.336441  , 0.26993716, 0.5438477 , ..., 0.35828435,\n",
       "          0.09088877, 0.9154848 ],\n",
       "         [1.8126334 , 0.15587133, 0.36633918, ..., 0.40421373,\n",
       "          0.        , 0.64654684],\n",
       "         [2.60356   , 0.08463901, 0.6730635 , ..., 0.7889154 ,\n",
       "          0.899009  , 1.5145122 ]]]], dtype=float32)"
      ]
     },
     "execution_count": 21,
     "metadata": {},
     "output_type": "execute_result"
    }
   ],
   "source": [
    "conv1_output"
   ]
  }
 ],
 "metadata": {
  "kernelspec": {
   "display_name": "Python 3",
   "language": "python",
   "name": "python3"
  },
  "language_info": {
   "codemirror_mode": {
    "name": "ipython",
    "version": 3
   },
   "file_extension": ".py",
   "mimetype": "text/x-python",
   "name": "python",
   "nbconvert_exporter": "python",
   "pygments_lexer": "ipython3",
   "version": "3.6.5"
  }
 },
 "nbformat": 4,
 "nbformat_minor": 2
}

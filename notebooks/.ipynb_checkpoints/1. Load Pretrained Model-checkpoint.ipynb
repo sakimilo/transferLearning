{
 "cells": [
  {
   "cell_type": "code",
   "execution_count": null,
   "metadata": {},
   "outputs": [],
   "source": [
    "import os\n",
    "os.chdir('../src')\n",
    "\n",
    "from logs import logDecorator as lD "
   ]
  },
  {
   "cell_type": "markdown",
   "metadata": {},
   "source": [
    "### load getPretrained module"
   ]
  },
  {
   "cell_type": "code",
   "execution_count": null,
   "metadata": {},
   "outputs": [],
   "source": [
    "%run modules/model/getPretrained.py"
   ]
  },
  {
   "cell_type": "code",
   "execution_count": null,
   "metadata": {},
   "outputs": [],
   "source": [
    "%rm ~/.keras/models/*"
   ]
  },
  {
   "cell_type": "code",
   "execution_count": null,
   "metadata": {},
   "outputs": [],
   "source": [
    "input_shape   = (224, 224, 3)\n",
    "include_top   = False\n",
    "weights       = 'imagenet'"
   ]
  },
  {
   "cell_type": "markdown",
   "metadata": {},
   "source": [
    "Source code in Keras repo\n",
    "https://github.com/keras-team/keras-applications/tree/master/keras_applications\n",
    "\n",
    "Source code in Tensorflow\n",
    "https://github.com/tensorflow/tensorflow/tree/master/tensorflow/python/keras/applications"
   ]
  },
  {
   "cell_type": "code",
   "execution_count": null,
   "metadata": {},
   "outputs": [],
   "source": [
    "base_model    = keras.applications.vgg16.VGG16(input_shape=input_shape, include_top=include_top, weights=weights)"
   ]
  },
  {
   "cell_type": "code",
   "execution_count": null,
   "metadata": {},
   "outputs": [],
   "source": [
    "%ls ~/.keras/models/"
   ]
  },
  {
   "cell_type": "code",
   "execution_count": null,
   "metadata": {},
   "outputs": [],
   "source": [
    "model         = keras.applications.vgg16.VGG16(input_shape=input_shape, include_top=include_top, \n",
    "                                               weights='/Users/lingyit/.keras/models/vgg16_weights_tf_dim_ordering_tf_kernels_notop.h5')"
   ]
  },
  {
   "cell_type": "code",
   "execution_count": null,
   "metadata": {
    "scrolled": true
   },
   "outputs": [],
   "source": [
    "ModelFileDict = getModelFileDict()\n",
    "ModelFileDict"
   ]
  },
  {
   "cell_type": "code",
   "execution_count": null,
   "metadata": {},
   "outputs": [],
   "source": [
    "visualise_graph('VGG16', 'VGG16_folder')"
   ]
  },
  {
   "cell_type": "code",
   "execution_count": null,
   "metadata": {},
   "outputs": [],
   "source": [
    "# model = modelImageNet('VGG16', ModelFileDict['VGG16'])\n",
    "model.summary()"
   ]
  },
  {
   "cell_type": "code",
   "execution_count": null,
   "metadata": {},
   "outputs": [],
   "source": [
    "model.layers"
   ]
  },
  {
   "cell_type": "code",
   "execution_count": null,
   "metadata": {
    "scrolled": true
   },
   "outputs": [],
   "source": [
    "conv2D_1  = model.layers[1]\n",
    "print('conv2D_1.name   :',   conv2D_1.name)\n",
    "print('conv2D_1.kernel :', conv2D_1.kernel)\n",
    "print('conv2D_1.bias   :',   conv2D_1.bias)\n",
    "print('conv2D_1.strides:', conv2D_1.strides)\n",
    "print('conv2D_1.padding:', conv2D_1.padding)"
   ]
  },
  {
   "cell_type": "code",
   "execution_count": null,
   "metadata": {},
   "outputs": [],
   "source": [
    "maxPool  = model.layers[3]\n",
    "print('maxPool.name      :', maxPool.name)\n",
    "print('maxPool.strides   :', maxPool.strides)\n",
    "print('maxPool.padding   :', maxPool.padding)\n",
    "print('maxPool.pool_size :', maxPool.pool_size)"
   ]
  },
  {
   "cell_type": "code",
   "execution_count": null,
   "metadata": {},
   "outputs": [],
   "source": [
    "conv2D_1.kernel"
   ]
  },
  {
   "cell_type": "code",
   "execution_count": null,
   "metadata": {},
   "outputs": [],
   "source": [
    "modelwTop = modelImageNet('VGG16_includeTop', ModelFileDict['VGG16_includeTop'])\n",
    "modelwTop.summary()"
   ]
  },
  {
   "cell_type": "code",
   "execution_count": null,
   "metadata": {},
   "outputs": [],
   "source": [
    "modelwTop.layers"
   ]
  }
 ],
 "metadata": {
  "kernelspec": {
   "display_name": "Python 3",
   "language": "python",
   "name": "python3"
  },
  "language_info": {
   "codemirror_mode": {
    "name": "ipython",
    "version": 3
   },
   "file_extension": ".py",
   "mimetype": "text/x-python",
   "name": "python",
   "nbconvert_exporter": "python",
   "pygments_lexer": "ipython3",
   "version": "3.6.5"
  }
 },
 "nbformat": 4,
 "nbformat_minor": 2
}
